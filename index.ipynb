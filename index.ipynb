{
 "cells": [
  {
   "cell_type": "code",
   "execution_count": 329,
   "metadata": {},
   "outputs": [],
   "source": [
    "import pandas as pd\n",
    "import matplotlib.pyplot as plt"
   ]
  },
  {
   "cell_type": "code",
   "execution_count": 330,
   "metadata": {},
   "outputs": [
    {
     "data": {
      "text/html": [
       "<div>\n",
       "<style scoped>\n",
       "    .dataframe tbody tr th:only-of-type {\n",
       "        vertical-align: middle;\n",
       "    }\n",
       "\n",
       "    .dataframe tbody tr th {\n",
       "        vertical-align: top;\n",
       "    }\n",
       "\n",
       "    .dataframe thead th {\n",
       "        text-align: right;\n",
       "    }\n",
       "</style>\n",
       "<table border=\"1\" class=\"dataframe\">\n",
       "  <thead>\n",
       "    <tr style=\"text-align: right;\">\n",
       "      <th></th>\n",
       "      <th>appid</th>\n",
       "      <th>name</th>\n",
       "      <th>release_date</th>\n",
       "      <th>english</th>\n",
       "      <th>developer</th>\n",
       "      <th>publisher</th>\n",
       "      <th>platforms</th>\n",
       "      <th>required_age</th>\n",
       "      <th>categories</th>\n",
       "      <th>genres</th>\n",
       "      <th>steamspy_tags</th>\n",
       "      <th>achievements</th>\n",
       "      <th>positive_ratings</th>\n",
       "      <th>negative_ratings</th>\n",
       "      <th>average_playtime</th>\n",
       "      <th>median_playtime</th>\n",
       "      <th>owners</th>\n",
       "      <th>price</th>\n",
       "    </tr>\n",
       "  </thead>\n",
       "  <tbody>\n",
       "    <tr>\n",
       "      <th>0</th>\n",
       "      <td>10</td>\n",
       "      <td>Counter-Strike</td>\n",
       "      <td>2000-11-01</td>\n",
       "      <td>1</td>\n",
       "      <td>Valve</td>\n",
       "      <td>Valve</td>\n",
       "      <td>windows;mac;linux</td>\n",
       "      <td>0</td>\n",
       "      <td>Multi-player;Online Multi-Player;Local Multi-P...</td>\n",
       "      <td>Action</td>\n",
       "      <td>Action;FPS;Multiplayer</td>\n",
       "      <td>0</td>\n",
       "      <td>124534</td>\n",
       "      <td>3339</td>\n",
       "      <td>17612</td>\n",
       "      <td>317</td>\n",
       "      <td>10000000-20000000</td>\n",
       "      <td>7.19</td>\n",
       "    </tr>\n",
       "    <tr>\n",
       "      <th>1</th>\n",
       "      <td>20</td>\n",
       "      <td>Team Fortress Classic</td>\n",
       "      <td>1999-04-01</td>\n",
       "      <td>1</td>\n",
       "      <td>Valve</td>\n",
       "      <td>Valve</td>\n",
       "      <td>windows;mac;linux</td>\n",
       "      <td>0</td>\n",
       "      <td>Multi-player;Online Multi-Player;Local Multi-P...</td>\n",
       "      <td>Action</td>\n",
       "      <td>Action;FPS;Multiplayer</td>\n",
       "      <td>0</td>\n",
       "      <td>3318</td>\n",
       "      <td>633</td>\n",
       "      <td>277</td>\n",
       "      <td>62</td>\n",
       "      <td>5000000-10000000</td>\n",
       "      <td>3.99</td>\n",
       "    </tr>\n",
       "    <tr>\n",
       "      <th>2</th>\n",
       "      <td>30</td>\n",
       "      <td>Day of Defeat</td>\n",
       "      <td>2003-05-01</td>\n",
       "      <td>1</td>\n",
       "      <td>Valve</td>\n",
       "      <td>Valve</td>\n",
       "      <td>windows;mac;linux</td>\n",
       "      <td>0</td>\n",
       "      <td>Multi-player;Valve Anti-Cheat enabled</td>\n",
       "      <td>Action</td>\n",
       "      <td>FPS;World War II;Multiplayer</td>\n",
       "      <td>0</td>\n",
       "      <td>3416</td>\n",
       "      <td>398</td>\n",
       "      <td>187</td>\n",
       "      <td>34</td>\n",
       "      <td>5000000-10000000</td>\n",
       "      <td>3.99</td>\n",
       "    </tr>\n",
       "    <tr>\n",
       "      <th>3</th>\n",
       "      <td>40</td>\n",
       "      <td>Deathmatch Classic</td>\n",
       "      <td>2001-06-01</td>\n",
       "      <td>1</td>\n",
       "      <td>Valve</td>\n",
       "      <td>Valve</td>\n",
       "      <td>windows;mac;linux</td>\n",
       "      <td>0</td>\n",
       "      <td>Multi-player;Online Multi-Player;Local Multi-P...</td>\n",
       "      <td>Action</td>\n",
       "      <td>Action;FPS;Multiplayer</td>\n",
       "      <td>0</td>\n",
       "      <td>1273</td>\n",
       "      <td>267</td>\n",
       "      <td>258</td>\n",
       "      <td>184</td>\n",
       "      <td>5000000-10000000</td>\n",
       "      <td>3.99</td>\n",
       "    </tr>\n",
       "    <tr>\n",
       "      <th>4</th>\n",
       "      <td>50</td>\n",
       "      <td>Half-Life: Opposing Force</td>\n",
       "      <td>1999-11-01</td>\n",
       "      <td>1</td>\n",
       "      <td>Gearbox Software</td>\n",
       "      <td>Valve</td>\n",
       "      <td>windows;mac;linux</td>\n",
       "      <td>0</td>\n",
       "      <td>Single-player;Multi-player;Valve Anti-Cheat en...</td>\n",
       "      <td>Action</td>\n",
       "      <td>FPS;Action;Sci-fi</td>\n",
       "      <td>0</td>\n",
       "      <td>5250</td>\n",
       "      <td>288</td>\n",
       "      <td>624</td>\n",
       "      <td>415</td>\n",
       "      <td>5000000-10000000</td>\n",
       "      <td>3.99</td>\n",
       "    </tr>\n",
       "  </tbody>\n",
       "</table>\n",
       "</div>"
      ],
      "text/plain": [
       "   appid                       name release_date  english         developer   \n",
       "0     10             Counter-Strike   2000-11-01        1             Valve  \\\n",
       "1     20      Team Fortress Classic   1999-04-01        1             Valve   \n",
       "2     30              Day of Defeat   2003-05-01        1             Valve   \n",
       "3     40         Deathmatch Classic   2001-06-01        1             Valve   \n",
       "4     50  Half-Life: Opposing Force   1999-11-01        1  Gearbox Software   \n",
       "\n",
       "  publisher          platforms  required_age   \n",
       "0     Valve  windows;mac;linux             0  \\\n",
       "1     Valve  windows;mac;linux             0   \n",
       "2     Valve  windows;mac;linux             0   \n",
       "3     Valve  windows;mac;linux             0   \n",
       "4     Valve  windows;mac;linux             0   \n",
       "\n",
       "                                          categories  genres   \n",
       "0  Multi-player;Online Multi-Player;Local Multi-P...  Action  \\\n",
       "1  Multi-player;Online Multi-Player;Local Multi-P...  Action   \n",
       "2              Multi-player;Valve Anti-Cheat enabled  Action   \n",
       "3  Multi-player;Online Multi-Player;Local Multi-P...  Action   \n",
       "4  Single-player;Multi-player;Valve Anti-Cheat en...  Action   \n",
       "\n",
       "                  steamspy_tags  achievements  positive_ratings   \n",
       "0        Action;FPS;Multiplayer             0            124534  \\\n",
       "1        Action;FPS;Multiplayer             0              3318   \n",
       "2  FPS;World War II;Multiplayer             0              3416   \n",
       "3        Action;FPS;Multiplayer             0              1273   \n",
       "4             FPS;Action;Sci-fi             0              5250   \n",
       "\n",
       "   negative_ratings  average_playtime  median_playtime             owners   \n",
       "0              3339             17612              317  10000000-20000000  \\\n",
       "1               633               277               62   5000000-10000000   \n",
       "2               398               187               34   5000000-10000000   \n",
       "3               267               258              184   5000000-10000000   \n",
       "4               288               624              415   5000000-10000000   \n",
       "\n",
       "   price  \n",
       "0   7.19  \n",
       "1   3.99  \n",
       "2   3.99  \n",
       "3   3.99  \n",
       "4   3.99  "
      ]
     },
     "execution_count": 330,
     "metadata": {},
     "output_type": "execute_result"
    }
   ],
   "source": [
    "games = pd.read_csv(\"steam.csv\")\n",
    "\n",
    "games.head()"
   ]
  },
  {
   "cell_type": "code",
   "execution_count": 331,
   "metadata": {},
   "outputs": [
    {
     "name": "stdout",
     "output_type": "stream",
     "text": [
      "<class 'pandas.core.frame.DataFrame'>\n",
      "RangeIndex: 27075 entries, 0 to 27074\n",
      "Data columns (total 18 columns):\n",
      " #   Column            Non-Null Count  Dtype  \n",
      "---  ------            --------------  -----  \n",
      " 0   appid             27075 non-null  int64  \n",
      " 1   name              27075 non-null  object \n",
      " 2   release_date      27075 non-null  object \n",
      " 3   english           27075 non-null  int64  \n",
      " 4   developer         27074 non-null  object \n",
      " 5   publisher         27061 non-null  object \n",
      " 6   platforms         27075 non-null  object \n",
      " 7   required_age      27075 non-null  int64  \n",
      " 8   categories        27075 non-null  object \n",
      " 9   genres            27075 non-null  object \n",
      " 10  steamspy_tags     27075 non-null  object \n",
      " 11  achievements      27075 non-null  int64  \n",
      " 12  positive_ratings  27075 non-null  int64  \n",
      " 13  negative_ratings  27075 non-null  int64  \n",
      " 14  average_playtime  27075 non-null  int64  \n",
      " 15  median_playtime   27075 non-null  int64  \n",
      " 16  owners            27075 non-null  object \n",
      " 17  price             27075 non-null  float64\n",
      "dtypes: float64(1), int64(8), object(9)\n",
      "memory usage: 3.7+ MB\n"
     ]
    }
   ],
   "source": [
    "games.info()"
   ]
  },
  {
   "cell_type": "markdown",
   "metadata": {},
   "source": [
    "# Data Exploration, Filtering, and Feature Engineering"
   ]
  },
  {
   "cell_type": "markdown",
   "metadata": {},
   "source": [
    "## 1. English vs. Non-english Games"
   ]
  },
  {
   "cell_type": "code",
   "execution_count": 332,
   "metadata": {},
   "outputs": [
    {
     "data": {
      "text/plain": [
       "english\n",
       "1    26564\n",
       "0      511\n",
       "Name: count, dtype: int64"
      ]
     },
     "execution_count": 332,
     "metadata": {},
     "output_type": "execute_result"
    }
   ],
   "source": [
    "games['english'].value_counts()"
   ]
  },
  {
   "cell_type": "code",
   "execution_count": 333,
   "metadata": {},
   "outputs": [
    {
     "data": {
      "text/plain": [
       "Text(0.5, 1.0, 'Percentage of English vs. Non-English Games')"
      ]
     },
     "execution_count": 333,
     "metadata": {},
     "output_type": "execute_result"
    },
    {
     "data": {
      "image/png": "[encoded data removed]",
      "text/plain": [
       "<Figure size 1000x500 with 1 Axes>"
      ]
     },
     "metadata": {},
     "output_type": "display_data"
    }
   ],
   "source": [
    "# Visualize proportion of english games\n",
    "english_labels = ['English', 'Non-English']\n",
    "english_data = games['english'].value_counts(normalize=True).values\n",
    "\n",
    "fig, ax = plt.subplots(figsize=(10,5))\n",
    "ax.pie(english_data, labels=english_labels, autopct='%1.1f%%')\n",
    "\n",
    "ax.set_title('Percentage of English vs. Non-English Games')"
   ]
  },
  {
   "cell_type": "code",
   "execution_count": 334,
   "metadata": {},
   "outputs": [
    {
     "data": {
      "text/plain": [
       "(26564, 18)"
      ]
     },
     "execution_count": 334,
     "metadata": {},
     "output_type": "execute_result"
    }
   ],
   "source": [
    "# Filtering 1: only enlgish games\n",
    "games = games.loc[games['english'] == 1]\n",
    "games.shape"
   ]
  },
  {
   "cell_type": "markdown",
   "metadata": {},
   "source": [
    "## 2. Number of Games in Different Platforms"
   ]
  },
  {
   "cell_type": "code",
   "execution_count": 335,
   "metadata": {},
   "outputs": [
    {
     "data": {
      "text/plain": [
       "platforms\n",
       "windows              17938\n",
       "windows;mac;linux     4607\n",
       "windows;mac           3406\n",
       "windows;linux          608\n",
       "mac                      3\n",
       "mac;linux                1\n",
       "linux                    1\n",
       "Name: count, dtype: int64"
      ]
     },
     "execution_count": 335,
     "metadata": {},
     "output_type": "execute_result"
    }
   ],
   "source": [
    "games['platforms'].value_counts()"
   ]
  },
  {
   "cell_type": "code",
   "execution_count": 336,
   "metadata": {},
   "outputs": [
    {
     "data": {
      "text/plain": [
       "{'windows': 99.981177533504,\n",
       " 'mac': 30.17994277970185,\n",
       " 'linux': 19.639361541936456}"
      ]
     },
     "execution_count": 336,
     "metadata": {},
     "output_type": "execute_result"
    }
   ],
   "source": [
    "# Percentage of games supporting each platform\n",
    "platform_labels = ['windows', 'mac', 'linux']\n",
    "\n",
    "platform_counts = {}\n",
    "for platform in platform_labels:\n",
    "    platform_counts[platform] = len(games.loc[games['platforms'].str.contains(platform)])/len(games)*100\n",
    "\n",
    "platform_counts"
   ]
  },
  {
   "cell_type": "code",
   "execution_count": 337,
   "metadata": {},
   "outputs": [
    {
     "data": {
      "text/plain": [
       "Text(0, 0.5, 'Percentage out of Total Number of Games')"
      ]
     },
     "execution_count": 337,
     "metadata": {},
     "output_type": "execute_result"
    },
    {
     "data": {
      "image/png": "[encoded data removed]",
      "text/plain": [
       "<Figure size 1000x500 with 1 Axes>"
      ]
     },
     "metadata": {},
     "output_type": "display_data"
    }
   ],
   "source": [
    "# Visualize percentage of games supporting each platform\n",
    "fig, ax = plt.subplots(figsize=(10,5))\n",
    "ax.bar(platform_labels, list(platform_counts.values()))\n",
    "ax.set_title('Percentage of Games per Platform (%)')\n",
    "ax.set_xlabel('Platforms')\n",
    "ax.set_ylabel('Percentage out of Total Number of Games')"
   ]
  },
  {
   "cell_type": "code",
   "execution_count": 338,
   "metadata": {},
   "outputs": [
    {
     "data": {
      "text/plain": [
       "platforms\n",
       "windows              17938\n",
       "windows;mac;linux     4607\n",
       "windows;mac           3406\n",
       "windows;linux          608\n",
       "Name: count, dtype: int64"
      ]
     },
     "execution_count": 338,
     "metadata": {},
     "output_type": "execute_result"
    }
   ],
   "source": [
    "# Filtering 2: games supporting windows\n",
    "games = games[games['platforms'].str.contains('windows')]\n",
    "games['platforms'].value_counts()"
   ]
  },
  {
   "cell_type": "markdown",
   "metadata": {},
   "source": [
    "## 3. Distribution of Game Prices"
   ]
  },
  {
   "cell_type": "code",
   "execution_count": 339,
   "metadata": {},
   "outputs": [
    {
     "data": {
      "image/png": "[encoded data removed]",
      "text/plain": [
       "<Figure size 640x480 with 1 Axes>"
      ]
     },
     "metadata": {},
     "output_type": "display_data"
    }
   ],
   "source": [
    "# Visualize distribution of prices per unit\n",
    "plt.hist(games['price'])\n",
    "plt.title('Distribution of Game Prices')\n",
    "plt.xlabel('Game Price')\n",
    "plt.ylabel('Number of Games')\n",
    "plt.show()"
   ]
  },
  {
   "cell_type": "code",
   "execution_count": 340,
   "metadata": {},
   "outputs": [
    {
     "name": "stdout",
     "output_type": "stream",
     "text": [
      "<class 'pandas.core.frame.DataFrame'>\n",
      "Index: 24083 entries, 0 to 27074\n",
      "Data columns (total 18 columns):\n",
      " #   Column            Non-Null Count  Dtype  \n",
      "---  ------            --------------  -----  \n",
      " 0   appid             24083 non-null  int64  \n",
      " 1   name              24083 non-null  object \n",
      " 2   release_date      24083 non-null  object \n",
      " 3   english           24083 non-null  int64  \n",
      " 4   developer         24082 non-null  object \n",
      " 5   publisher         24073 non-null  object \n",
      " 6   platforms         24083 non-null  object \n",
      " 7   required_age      24083 non-null  int64  \n",
      " 8   categories        24083 non-null  object \n",
      " 9   genres            24083 non-null  object \n",
      " 10  steamspy_tags     24083 non-null  object \n",
      " 11  achievements      24083 non-null  int64  \n",
      " 12  positive_ratings  24083 non-null  int64  \n",
      " 13  negative_ratings  24083 non-null  int64  \n",
      " 14  average_playtime  24083 non-null  int64  \n",
      " 15  median_playtime   24083 non-null  int64  \n",
      " 16  owners            24083 non-null  object \n",
      " 17  price             24083 non-null  float64\n",
      "dtypes: float64(1), int64(8), object(9)\n",
      "memory usage: 3.5+ MB\n"
     ]
    }
   ],
   "source": [
    "# Filtering - remove free games, and games more expensive than $100\n",
    "games = games.loc[(games['price'] > 0) & (games['price'] <= 100)]\n",
    "games.info()"
   ]
  },
  {
   "cell_type": "markdown",
   "metadata": {},
   "source": [
    "## 4. Different Genres of Games"
   ]
  },
  {
   "cell_type": "code",
   "execution_count": 341,
   "metadata": {},
   "outputs": [
    {
     "data": {
      "text/plain": [
       "genres\n",
       "Action;Indie                                                                 1791\n",
       "Casual;Indie                                                                 1425\n",
       "Action;Adventure;Indie                                                       1194\n",
       "Adventure;Indie                                                              1107\n",
       "Action;Casual;Indie                                                           977\n",
       "                                                                             ... \n",
       "Action;Casual;Free to Play;Indie;RPG;Simulation;Strategy                        1\n",
       "Nudity;Adventure;Casual                                                         1\n",
       "Sexual Content;Simulation                                                       1\n",
       "Action;Adventure;Indie;Massively Multiplayer;Racing;Simulation                  1\n",
       "Action;Adventure;Casual;Free to Play;Indie;RPG;Simulation;Sports;Strategy       1\n",
       "Name: count, Length: 1135, dtype: int64"
      ]
     },
     "execution_count": 341,
     "metadata": {},
     "output_type": "execute_result"
    }
   ],
   "source": [
    "games['genres'].value_counts()"
   ]
  },
  {
   "cell_type": "markdown",
   "metadata": {},
   "source": [
    "### Feature Engineering 1: Encode different genres"
   ]
  },
  {
   "cell_type": "code",
   "execution_count": 342,
   "metadata": {},
   "outputs": [
    {
     "data": {
      "text/html": [
       "<div>\n",
       "<style scoped>\n",
       "    .dataframe tbody tr th:only-of-type {\n",
       "        vertical-align: middle;\n",
       "    }\n",
       "\n",
       "    .dataframe tbody tr th {\n",
       "        vertical-align: top;\n",
       "    }\n",
       "\n",
       "    .dataframe thead th {\n",
       "        text-align: right;\n",
       "    }\n",
       "</style>\n",
       "<table border=\"1\" class=\"dataframe\">\n",
       "  <thead>\n",
       "    <tr style=\"text-align: right;\">\n",
       "      <th></th>\n",
       "      <th>appid</th>\n",
       "      <th>name</th>\n",
       "      <th>release_date</th>\n",
       "      <th>english</th>\n",
       "      <th>developer</th>\n",
       "      <th>publisher</th>\n",
       "      <th>platforms</th>\n",
       "      <th>required_age</th>\n",
       "      <th>categories</th>\n",
       "      <th>genres</th>\n",
       "      <th>steamspy_tags</th>\n",
       "      <th>achievements</th>\n",
       "      <th>positive_ratings</th>\n",
       "      <th>negative_ratings</th>\n",
       "      <th>average_playtime</th>\n",
       "      <th>median_playtime</th>\n",
       "      <th>owners</th>\n",
       "      <th>price</th>\n",
       "    </tr>\n",
       "  </thead>\n",
       "  <tbody>\n",
       "    <tr>\n",
       "      <th>0</th>\n",
       "      <td>10</td>\n",
       "      <td>Counter-Strike</td>\n",
       "      <td>2000-11-01</td>\n",
       "      <td>1</td>\n",
       "      <td>Valve</td>\n",
       "      <td>Valve</td>\n",
       "      <td>windows;mac;linux</td>\n",
       "      <td>0</td>\n",
       "      <td>Multi-player;Online Multi-Player;Local Multi-P...</td>\n",
       "      <td>Action</td>\n",
       "      <td>Action;FPS;Multiplayer</td>\n",
       "      <td>0</td>\n",
       "      <td>124534</td>\n",
       "      <td>3339</td>\n",
       "      <td>17612</td>\n",
       "      <td>317</td>\n",
       "      <td>10000000-20000000</td>\n",
       "      <td>7.19</td>\n",
       "    </tr>\n",
       "    <tr>\n",
       "      <th>1</th>\n",
       "      <td>20</td>\n",
       "      <td>Team Fortress Classic</td>\n",
       "      <td>1999-04-01</td>\n",
       "      <td>1</td>\n",
       "      <td>Valve</td>\n",
       "      <td>Valve</td>\n",
       "      <td>windows;mac;linux</td>\n",
       "      <td>0</td>\n",
       "      <td>Multi-player;Online Multi-Player;Local Multi-P...</td>\n",
       "      <td>Action</td>\n",
       "      <td>Action;FPS;Multiplayer</td>\n",
       "      <td>0</td>\n",
       "      <td>3318</td>\n",
       "      <td>633</td>\n",
       "      <td>277</td>\n",
       "      <td>62</td>\n",
       "      <td>5000000-10000000</td>\n",
       "      <td>3.99</td>\n",
       "    </tr>\n",
       "    <tr>\n",
       "      <th>2</th>\n",
       "      <td>30</td>\n",
       "      <td>Day of Defeat</td>\n",
       "      <td>2003-05-01</td>\n",
       "      <td>1</td>\n",
       "      <td>Valve</td>\n",
       "      <td>Valve</td>\n",
       "      <td>windows;mac;linux</td>\n",
       "      <td>0</td>\n",
       "      <td>Multi-player;Valve Anti-Cheat enabled</td>\n",
       "      <td>Action</td>\n",
       "      <td>FPS;World War II;Multiplayer</td>\n",
       "      <td>0</td>\n",
       "      <td>3416</td>\n",
       "      <td>398</td>\n",
       "      <td>187</td>\n",
       "      <td>34</td>\n",
       "      <td>5000000-10000000</td>\n",
       "      <td>3.99</td>\n",
       "    </tr>\n",
       "    <tr>\n",
       "      <th>3</th>\n",
       "      <td>40</td>\n",
       "      <td>Deathmatch Classic</td>\n",
       "      <td>2001-06-01</td>\n",
       "      <td>1</td>\n",
       "      <td>Valve</td>\n",
       "      <td>Valve</td>\n",
       "      <td>windows;mac;linux</td>\n",
       "      <td>0</td>\n",
       "      <td>Multi-player;Online Multi-Player;Local Multi-P...</td>\n",
       "      <td>Action</td>\n",
       "      <td>Action;FPS;Multiplayer</td>\n",
       "      <td>0</td>\n",
       "      <td>1273</td>\n",
       "      <td>267</td>\n",
       "      <td>258</td>\n",
       "      <td>184</td>\n",
       "      <td>5000000-10000000</td>\n",
       "      <td>3.99</td>\n",
       "    </tr>\n",
       "    <tr>\n",
       "      <th>4</th>\n",
       "      <td>50</td>\n",
       "      <td>Half-Life: Opposing Force</td>\n",
       "      <td>1999-11-01</td>\n",
       "      <td>1</td>\n",
       "      <td>Gearbox Software</td>\n",
       "      <td>Valve</td>\n",
       "      <td>windows;mac;linux</td>\n",
       "      <td>0</td>\n",
       "      <td>Single-player;Multi-player;Valve Anti-Cheat en...</td>\n",
       "      <td>Action</td>\n",
       "      <td>FPS;Action;Sci-fi</td>\n",
       "      <td>0</td>\n",
       "      <td>5250</td>\n",
       "      <td>288</td>\n",
       "      <td>624</td>\n",
       "      <td>415</td>\n",
       "      <td>5000000-10000000</td>\n",
       "      <td>3.99</td>\n",
       "    </tr>\n",
       "  </tbody>\n",
       "</table>\n",
       "</div>"
      ],
      "text/plain": [
       "   appid                       name release_date  english         developer   \n",
       "0     10             Counter-Strike   2000-11-01        1             Valve  \\\n",
       "1     20      Team Fortress Classic   1999-04-01        1             Valve   \n",
       "2     30              Day of Defeat   2003-05-01        1             Valve   \n",
       "3     40         Deathmatch Classic   2001-06-01        1             Valve   \n",
       "4     50  Half-Life: Opposing Force   1999-11-01        1  Gearbox Software   \n",
       "\n",
       "  publisher          platforms  required_age   \n",
       "0     Valve  windows;mac;linux             0  \\\n",
       "1     Valve  windows;mac;linux             0   \n",
       "2     Valve  windows;mac;linux             0   \n",
       "3     Valve  windows;mac;linux             0   \n",
       "4     Valve  windows;mac;linux             0   \n",
       "\n",
       "                                          categories  genres   \n",
       "0  Multi-player;Online Multi-Player;Local Multi-P...  Action  \\\n",
       "1  Multi-player;Online Multi-Player;Local Multi-P...  Action   \n",
       "2              Multi-player;Valve Anti-Cheat enabled  Action   \n",
       "3  Multi-player;Online Multi-Player;Local Multi-P...  Action   \n",
       "4  Single-player;Multi-player;Valve Anti-Cheat en...  Action   \n",
       "\n",
       "                  steamspy_tags  achievements  positive_ratings   \n",
       "0        Action;FPS;Multiplayer             0            124534  \\\n",
       "1        Action;FPS;Multiplayer             0              3318   \n",
       "2  FPS;World War II;Multiplayer             0              3416   \n",
       "3        Action;FPS;Multiplayer             0              1273   \n",
       "4             FPS;Action;Sci-fi             0              5250   \n",
       "\n",
       "   negative_ratings  average_playtime  median_playtime             owners   \n",
       "0              3339             17612              317  10000000-20000000  \\\n",
       "1               633               277               62   5000000-10000000   \n",
       "2               398               187               34   5000000-10000000   \n",
       "3               267               258              184   5000000-10000000   \n",
       "4               288               624              415   5000000-10000000   \n",
       "\n",
       "   price  \n",
       "0   7.19  \n",
       "1   3.99  \n",
       "2   3.99  \n",
       "3   3.99  \n",
       "4   3.99  "
      ]
     },
     "execution_count": 342,
     "metadata": {},
     "output_type": "execute_result"
    }
   ],
   "source": [
    "# reset index\n",
    "games = games.reset_index().drop(\"index\", axis=1)\n",
    "games.head()"
   ]
  },
  {
   "cell_type": "code",
   "execution_count": 343,
   "metadata": {},
   "outputs": [],
   "source": [
    "# Spliting the genres into a list\n",
    "games['genres'] = games['genres'].str.split(\";\")"
   ]
  },
  {
   "cell_type": "code",
   "execution_count": 344,
   "metadata": {},
   "outputs": [
    {
     "data": {
      "text/html": [
       "<div>\n",
       "<style scoped>\n",
       "    .dataframe tbody tr th:only-of-type {\n",
       "        vertical-align: middle;\n",
       "    }\n",
       "\n",
       "    .dataframe tbody tr th {\n",
       "        vertical-align: top;\n",
       "    }\n",
       "\n",
       "    .dataframe thead th {\n",
       "        text-align: right;\n",
       "    }\n",
       "</style>\n",
       "<table border=\"1\" class=\"dataframe\">\n",
       "  <thead>\n",
       "    <tr style=\"text-align: right;\">\n",
       "      <th></th>\n",
       "      <th>appid</th>\n",
       "      <th>name</th>\n",
       "      <th>release_date</th>\n",
       "      <th>english</th>\n",
       "      <th>developer</th>\n",
       "      <th>publisher</th>\n",
       "      <th>platforms</th>\n",
       "      <th>required_age</th>\n",
       "      <th>categories</th>\n",
       "      <th>genres</th>\n",
       "      <th>...</th>\n",
       "      <th>Sexual Content</th>\n",
       "      <th>Simulation</th>\n",
       "      <th>Software Training</th>\n",
       "      <th>Sports</th>\n",
       "      <th>Strategy</th>\n",
       "      <th>Tutorial</th>\n",
       "      <th>Utilities</th>\n",
       "      <th>Video Production</th>\n",
       "      <th>Violent</th>\n",
       "      <th>Web Publishing</th>\n",
       "    </tr>\n",
       "  </thead>\n",
       "  <tbody>\n",
       "    <tr>\n",
       "      <th>0</th>\n",
       "      <td>10</td>\n",
       "      <td>Counter-Strike</td>\n",
       "      <td>2000-11-01</td>\n",
       "      <td>1</td>\n",
       "      <td>Valve</td>\n",
       "      <td>Valve</td>\n",
       "      <td>windows;mac;linux</td>\n",
       "      <td>0</td>\n",
       "      <td>Multi-player;Online Multi-Player;Local Multi-P...</td>\n",
       "      <td>[Action]</td>\n",
       "      <td>...</td>\n",
       "      <td>0</td>\n",
       "      <td>0</td>\n",
       "      <td>0</td>\n",
       "      <td>0</td>\n",
       "      <td>0</td>\n",
       "      <td>0</td>\n",
       "      <td>0</td>\n",
       "      <td>0</td>\n",
       "      <td>0</td>\n",
       "      <td>0</td>\n",
       "    </tr>\n",
       "    <tr>\n",
       "      <th>1</th>\n",
       "      <td>20</td>\n",
       "      <td>Team Fortress Classic</td>\n",
       "      <td>1999-04-01</td>\n",
       "      <td>1</td>\n",
       "      <td>Valve</td>\n",
       "      <td>Valve</td>\n",
       "      <td>windows;mac;linux</td>\n",
       "      <td>0</td>\n",
       "      <td>Multi-player;Online Multi-Player;Local Multi-P...</td>\n",
       "      <td>[Action]</td>\n",
       "      <td>...</td>\n",
       "      <td>0</td>\n",
       "      <td>0</td>\n",
       "      <td>0</td>\n",
       "      <td>0</td>\n",
       "      <td>0</td>\n",
       "      <td>0</td>\n",
       "      <td>0</td>\n",
       "      <td>0</td>\n",
       "      <td>0</td>\n",
       "      <td>0</td>\n",
       "    </tr>\n",
       "    <tr>\n",
       "      <th>2</th>\n",
       "      <td>30</td>\n",
       "      <td>Day of Defeat</td>\n",
       "      <td>2003-05-01</td>\n",
       "      <td>1</td>\n",
       "      <td>Valve</td>\n",
       "      <td>Valve</td>\n",
       "      <td>windows;mac;linux</td>\n",
       "      <td>0</td>\n",
       "      <td>Multi-player;Valve Anti-Cheat enabled</td>\n",
       "      <td>[Action]</td>\n",
       "      <td>...</td>\n",
       "      <td>0</td>\n",
       "      <td>0</td>\n",
       "      <td>0</td>\n",
       "      <td>0</td>\n",
       "      <td>0</td>\n",
       "      <td>0</td>\n",
       "      <td>0</td>\n",
       "      <td>0</td>\n",
       "      <td>0</td>\n",
       "      <td>0</td>\n",
       "    </tr>\n",
       "    <tr>\n",
       "      <th>3</th>\n",
       "      <td>40</td>\n",
       "      <td>Deathmatch Classic</td>\n",
       "      <td>2001-06-01</td>\n",
       "      <td>1</td>\n",
       "      <td>Valve</td>\n",
       "      <td>Valve</td>\n",
       "      <td>windows;mac;linux</td>\n",
       "      <td>0</td>\n",
       "      <td>Multi-player;Online Multi-Player;Local Multi-P...</td>\n",
       "      <td>[Action]</td>\n",
       "      <td>...</td>\n",
       "      <td>0</td>\n",
       "      <td>0</td>\n",
       "      <td>0</td>\n",
       "      <td>0</td>\n",
       "      <td>0</td>\n",
       "      <td>0</td>\n",
       "      <td>0</td>\n",
       "      <td>0</td>\n",
       "      <td>0</td>\n",
       "      <td>0</td>\n",
       "    </tr>\n",
       "    <tr>\n",
       "      <th>4</th>\n",
       "      <td>50</td>\n",
       "      <td>Half-Life: Opposing Force</td>\n",
       "      <td>1999-11-01</td>\n",
       "      <td>1</td>\n",
       "      <td>Gearbox Software</td>\n",
       "      <td>Valve</td>\n",
       "      <td>windows;mac;linux</td>\n",
       "      <td>0</td>\n",
       "      <td>Single-player;Multi-player;Valve Anti-Cheat en...</td>\n",
       "      <td>[Action]</td>\n",
       "      <td>...</td>\n",
       "      <td>0</td>\n",
       "      <td>0</td>\n",
       "      <td>0</td>\n",
       "      <td>0</td>\n",
       "      <td>0</td>\n",
       "      <td>0</td>\n",
       "      <td>0</td>\n",
       "      <td>0</td>\n",
       "      <td>0</td>\n",
       "      <td>0</td>\n",
       "    </tr>\n",
       "  </tbody>\n",
       "</table>\n",
       "<p>5 rows × 47 columns</p>\n",
       "</div>"
      ],
      "text/plain": [
       "   appid                       name release_date  english         developer   \n",
       "0     10             Counter-Strike   2000-11-01        1             Valve  \\\n",
       "1     20      Team Fortress Classic   1999-04-01        1             Valve   \n",
       "2     30              Day of Defeat   2003-05-01        1             Valve   \n",
       "3     40         Deathmatch Classic   2001-06-01        1             Valve   \n",
       "4     50  Half-Life: Opposing Force   1999-11-01        1  Gearbox Software   \n",
       "\n",
       "  publisher          platforms  required_age   \n",
       "0     Valve  windows;mac;linux             0  \\\n",
       "1     Valve  windows;mac;linux             0   \n",
       "2     Valve  windows;mac;linux             0   \n",
       "3     Valve  windows;mac;linux             0   \n",
       "4     Valve  windows;mac;linux             0   \n",
       "\n",
       "                                          categories    genres  ...   \n",
       "0  Multi-player;Online Multi-Player;Local Multi-P...  [Action]  ...  \\\n",
       "1  Multi-player;Online Multi-Player;Local Multi-P...  [Action]  ...   \n",
       "2              Multi-player;Valve Anti-Cheat enabled  [Action]  ...   \n",
       "3  Multi-player;Online Multi-Player;Local Multi-P...  [Action]  ...   \n",
       "4  Single-player;Multi-player;Valve Anti-Cheat en...  [Action]  ...   \n",
       "\n",
       "  Sexual Content  Simulation  Software Training  Sports  Strategy  Tutorial   \n",
       "0              0           0                  0       0         0         0  \\\n",
       "1              0           0                  0       0         0         0   \n",
       "2              0           0                  0       0         0         0   \n",
       "3              0           0                  0       0         0         0   \n",
       "4              0           0                  0       0         0         0   \n",
       "\n",
       "  Utilities  Video Production  Violent  Web Publishing  \n",
       "0         0                 0        0               0  \n",
       "1         0                 0        0               0  \n",
       "2         0                 0        0               0  \n",
       "3         0                 0        0               0  \n",
       "4         0                 0        0               0  \n",
       "\n",
       "[5 rows x 47 columns]"
      ]
     },
     "execution_count": 344,
     "metadata": {},
     "output_type": "execute_result"
    }
   ],
   "source": [
    "# label each genre into a separate column\n",
    "from sklearn.preprocessing import MultiLabelBinarizer\n",
    "\n",
    "mlb = MultiLabelBinarizer()\n",
    "binary_genres = mlb.fit_transform(games['genres'])\n",
    "\n",
    "genre_names = list(mlb.classes_)\n",
    "\n",
    "genres_encoded = pd.DataFrame(binary_genres, columns=genre_names)\n",
    "games_merged = pd.concat([games, genres_encoded], axis=1)\n",
    "\n",
    "games_merged.head()"
   ]
  },
  {
   "cell_type": "code",
   "execution_count": 345,
   "metadata": {},
   "outputs": [
    {
     "data": {
      "text/plain": [
       "['Indie', 'Action', 'Casual', 'Adventure', 'Simulation']"
      ]
     },
     "execution_count": 345,
     "metadata": {},
     "output_type": "execute_result"
    }
   ],
   "source": [
    "# genre counts\n",
    "genre_count = {}\n",
    "for genre in genre_names:\n",
    "    genre_count[genre] = len(games_merged.loc[games_merged[genre] == 1])\n",
    "\n",
    "# top 5 genres with most number of games\n",
    "top_5_genres = [genre[0] for genre in sorted(genre_count.items(), key=lambda x: x[1], reverse=True)[:5]]\n",
    "top_5_genres"
   ]
  },
  {
   "cell_type": "code",
   "execution_count": 346,
   "metadata": {},
   "outputs": [],
   "source": [
    "# Sort and normalize the counts\n",
    "top_5_genres = sorted(genre_count.items(), key=lambda x: x[1], reverse=True)[:5]\n",
    "total_counts = len(games_merged)\n",
    "top_5_genre_counts = {item[0]: item[1]/total_counts*100 for item in top_5_genres}"
   ]
  },
  {
   "cell_type": "code",
   "execution_count": 347,
   "metadata": {},
   "outputs": [
    {
     "data": {
      "text/plain": [
       "Text(0.5, 1.0, 'Percentage of Games in Top 5 Most Popular Genres')"
      ]
     },
     "execution_count": 347,
     "metadata": {},
     "output_type": "execute_result"
    },
    {
     "data": {
      "image/png": "[encoded data removed]",
      "text/plain": [
       "<Figure size 1000x500 with 1 Axes>"
      ]
     },
     "metadata": {},
     "output_type": "display_data"
    }
   ],
   "source": [
    "# Visualize \n",
    "fig, ax = plt.subplots(figsize=(10,5))\n",
    "ax.bar(top_5_genre_counts.keys(), top_5_genre_counts.values())\n",
    "ax.set_xlabel('Genres')\n",
    "ax.set_ylabel('Percentage of Games')\n",
    "ax.set_title('Percentage of Games in Top 5 Most Popular Genres')"
   ]
  },
  {
   "cell_type": "markdown",
   "metadata": {},
   "source": [
    "## 5. Ratings and Sales\n",
    "\n",
    "### Feature Engineering 2: Create `rating_num`, `positive_ratio`, `sales_average` columns"
   ]
  },
  {
   "cell_type": "code",
   "execution_count": 348,
   "metadata": {},
   "outputs": [],
   "source": [
    "# Create positive_ratio column (proportion of number of positive ratings to total number of ratings)\n",
    "def get_rating_ratio(df):\n",
    "    df['rating_num'] = df['positive_ratings'] + df['negative_ratings']\n",
    "    df['positive_ratio'] = df['positive_ratings'] / df['rating_num']"
   ]
  },
  {
   "cell_type": "code",
   "execution_count": 349,
   "metadata": {},
   "outputs": [],
   "source": [
    "# Calculate low and high sales range\n",
    "def get_low_high_sales(df):\n",
    "    df[['owners_low', 'owners_high']] = df['owners'].str.split(\"-\", expand=True).astype(int)\n",
    "    df['sales_low'] = df['owners_low'] * df['price']\n",
    "    df['sales_high'] = df['owners_high'] * df['price']\n"
   ]
  },
  {
   "cell_type": "code",
   "execution_count": 350,
   "metadata": {},
   "outputs": [],
   "source": [
    "# Calculate average sales between low and high sales range\n",
    "def get_average_sales(df):\n",
    "    df['sales_average'] = (df['sales_high'] + df['sales_low'])/2"
   ]
  },
  {
   "cell_type": "code",
   "execution_count": 351,
   "metadata": {},
   "outputs": [
    {
     "data": {
      "text/html": [
       "<div>\n",
       "<style scoped>\n",
       "    .dataframe tbody tr th:only-of-type {\n",
       "        vertical-align: middle;\n",
       "    }\n",
       "\n",
       "    .dataframe tbody tr th {\n",
       "        vertical-align: top;\n",
       "    }\n",
       "\n",
       "    .dataframe thead th {\n",
       "        text-align: right;\n",
       "    }\n",
       "</style>\n",
       "<table border=\"1\" class=\"dataframe\">\n",
       "  <thead>\n",
       "    <tr style=\"text-align: right;\">\n",
       "      <th></th>\n",
       "      <th>appid</th>\n",
       "      <th>name</th>\n",
       "      <th>release_date</th>\n",
       "      <th>english</th>\n",
       "      <th>developer</th>\n",
       "      <th>publisher</th>\n",
       "      <th>platforms</th>\n",
       "      <th>required_age</th>\n",
       "      <th>categories</th>\n",
       "      <th>genres</th>\n",
       "      <th>...</th>\n",
       "      <th>Video Production</th>\n",
       "      <th>Violent</th>\n",
       "      <th>Web Publishing</th>\n",
       "      <th>rating_num</th>\n",
       "      <th>positive_ratio</th>\n",
       "      <th>owners_low</th>\n",
       "      <th>owners_high</th>\n",
       "      <th>sales_low</th>\n",
       "      <th>sales_high</th>\n",
       "      <th>sales_average</th>\n",
       "    </tr>\n",
       "  </thead>\n",
       "  <tbody>\n",
       "    <tr>\n",
       "      <th>0</th>\n",
       "      <td>10</td>\n",
       "      <td>Counter-Strike</td>\n",
       "      <td>2000-11-01</td>\n",
       "      <td>1</td>\n",
       "      <td>Valve</td>\n",
       "      <td>Valve</td>\n",
       "      <td>windows;mac;linux</td>\n",
       "      <td>0</td>\n",
       "      <td>Multi-player;Online Multi-Player;Local Multi-P...</td>\n",
       "      <td>[Action]</td>\n",
       "      <td>...</td>\n",
       "      <td>0</td>\n",
       "      <td>0</td>\n",
       "      <td>0</td>\n",
       "      <td>127873</td>\n",
       "      <td>0.973888</td>\n",
       "      <td>10000000</td>\n",
       "      <td>20000000</td>\n",
       "      <td>71900000.0</td>\n",
       "      <td>143800000.0</td>\n",
       "      <td>107850000.0</td>\n",
       "    </tr>\n",
       "    <tr>\n",
       "      <th>1</th>\n",
       "      <td>20</td>\n",
       "      <td>Team Fortress Classic</td>\n",
       "      <td>1999-04-01</td>\n",
       "      <td>1</td>\n",
       "      <td>Valve</td>\n",
       "      <td>Valve</td>\n",
       "      <td>windows;mac;linux</td>\n",
       "      <td>0</td>\n",
       "      <td>Multi-player;Online Multi-Player;Local Multi-P...</td>\n",
       "      <td>[Action]</td>\n",
       "      <td>...</td>\n",
       "      <td>0</td>\n",
       "      <td>0</td>\n",
       "      <td>0</td>\n",
       "      <td>3951</td>\n",
       "      <td>0.839787</td>\n",
       "      <td>5000000</td>\n",
       "      <td>10000000</td>\n",
       "      <td>19950000.0</td>\n",
       "      <td>39900000.0</td>\n",
       "      <td>29925000.0</td>\n",
       "    </tr>\n",
       "    <tr>\n",
       "      <th>2</th>\n",
       "      <td>30</td>\n",
       "      <td>Day of Defeat</td>\n",
       "      <td>2003-05-01</td>\n",
       "      <td>1</td>\n",
       "      <td>Valve</td>\n",
       "      <td>Valve</td>\n",
       "      <td>windows;mac;linux</td>\n",
       "      <td>0</td>\n",
       "      <td>Multi-player;Valve Anti-Cheat enabled</td>\n",
       "      <td>[Action]</td>\n",
       "      <td>...</td>\n",
       "      <td>0</td>\n",
       "      <td>0</td>\n",
       "      <td>0</td>\n",
       "      <td>3814</td>\n",
       "      <td>0.895648</td>\n",
       "      <td>5000000</td>\n",
       "      <td>10000000</td>\n",
       "      <td>19950000.0</td>\n",
       "      <td>39900000.0</td>\n",
       "      <td>29925000.0</td>\n",
       "    </tr>\n",
       "    <tr>\n",
       "      <th>3</th>\n",
       "      <td>40</td>\n",
       "      <td>Deathmatch Classic</td>\n",
       "      <td>2001-06-01</td>\n",
       "      <td>1</td>\n",
       "      <td>Valve</td>\n",
       "      <td>Valve</td>\n",
       "      <td>windows;mac;linux</td>\n",
       "      <td>0</td>\n",
       "      <td>Multi-player;Online Multi-Player;Local Multi-P...</td>\n",
       "      <td>[Action]</td>\n",
       "      <td>...</td>\n",
       "      <td>0</td>\n",
       "      <td>0</td>\n",
       "      <td>0</td>\n",
       "      <td>1540</td>\n",
       "      <td>0.826623</td>\n",
       "      <td>5000000</td>\n",
       "      <td>10000000</td>\n",
       "      <td>19950000.0</td>\n",
       "      <td>39900000.0</td>\n",
       "      <td>29925000.0</td>\n",
       "    </tr>\n",
       "    <tr>\n",
       "      <th>4</th>\n",
       "      <td>50</td>\n",
       "      <td>Half-Life: Opposing Force</td>\n",
       "      <td>1999-11-01</td>\n",
       "      <td>1</td>\n",
       "      <td>Gearbox Software</td>\n",
       "      <td>Valve</td>\n",
       "      <td>windows;mac;linux</td>\n",
       "      <td>0</td>\n",
       "      <td>Single-player;Multi-player;Valve Anti-Cheat en...</td>\n",
       "      <td>[Action]</td>\n",
       "      <td>...</td>\n",
       "      <td>0</td>\n",
       "      <td>0</td>\n",
       "      <td>0</td>\n",
       "      <td>5538</td>\n",
       "      <td>0.947996</td>\n",
       "      <td>5000000</td>\n",
       "      <td>10000000</td>\n",
       "      <td>19950000.0</td>\n",
       "      <td>39900000.0</td>\n",
       "      <td>29925000.0</td>\n",
       "    </tr>\n",
       "  </tbody>\n",
       "</table>\n",
       "<p>5 rows × 54 columns</p>\n",
       "</div>"
      ],
      "text/plain": [
       "   appid                       name release_date  english         developer   \n",
       "0     10             Counter-Strike   2000-11-01        1             Valve  \\\n",
       "1     20      Team Fortress Classic   1999-04-01        1             Valve   \n",
       "2     30              Day of Defeat   2003-05-01        1             Valve   \n",
       "3     40         Deathmatch Classic   2001-06-01        1             Valve   \n",
       "4     50  Half-Life: Opposing Force   1999-11-01        1  Gearbox Software   \n",
       "\n",
       "  publisher          platforms  required_age   \n",
       "0     Valve  windows;mac;linux             0  \\\n",
       "1     Valve  windows;mac;linux             0   \n",
       "2     Valve  windows;mac;linux             0   \n",
       "3     Valve  windows;mac;linux             0   \n",
       "4     Valve  windows;mac;linux             0   \n",
       "\n",
       "                                          categories    genres  ...   \n",
       "0  Multi-player;Online Multi-Player;Local Multi-P...  [Action]  ...  \\\n",
       "1  Multi-player;Online Multi-Player;Local Multi-P...  [Action]  ...   \n",
       "2              Multi-player;Valve Anti-Cheat enabled  [Action]  ...   \n",
       "3  Multi-player;Online Multi-Player;Local Multi-P...  [Action]  ...   \n",
       "4  Single-player;Multi-player;Valve Anti-Cheat en...  [Action]  ...   \n",
       "\n",
       "  Video Production  Violent  Web Publishing  rating_num  positive_ratio   \n",
       "0                0        0               0      127873        0.973888  \\\n",
       "1                0        0               0        3951        0.839787   \n",
       "2                0        0               0        3814        0.895648   \n",
       "3                0        0               0        1540        0.826623   \n",
       "4                0        0               0        5538        0.947996   \n",
       "\n",
       "   owners_low owners_high   sales_low   sales_high  sales_average  \n",
       "0    10000000    20000000  71900000.0  143800000.0    107850000.0  \n",
       "1     5000000    10000000  19950000.0   39900000.0     29925000.0  \n",
       "2     5000000    10000000  19950000.0   39900000.0     29925000.0  \n",
       "3     5000000    10000000  19950000.0   39900000.0     29925000.0  \n",
       "4     5000000    10000000  19950000.0   39900000.0     29925000.0  \n",
       "\n",
       "[5 rows x 54 columns]"
      ]
     },
     "execution_count": 351,
     "metadata": {},
     "output_type": "execute_result"
    }
   ],
   "source": [
    "get_rating_ratio(games_merged)\n",
    "get_low_high_sales(games_merged)\n",
    "get_average_sales(games_merged)\n",
    "games_merged.head()"
   ]
  },
  {
   "cell_type": "markdown",
   "metadata": {},
   "source": [
    "### Remove outliers from `sales_average` columns"
   ]
  },
  {
   "cell_type": "code",
   "execution_count": 352,
   "metadata": {},
   "outputs": [
    {
     "data": {
      "text/plain": [
       "(23958, 54)"
      ]
     },
     "execution_count": 352,
     "metadata": {},
     "output_type": "execute_result"
    }
   ],
   "source": [
    "import numpy as np\n",
    "from scipy import stats\n",
    "\n",
    "games_merged = games_merged[(np.abs(stats.zscore(games_merged['sales_average'])) < 3)]\n",
    "games_merged.shape\n"
   ]
  },
  {
   "cell_type": "code",
   "execution_count": 353,
   "metadata": {},
   "outputs": [],
   "source": [
    "# reset index\n",
    "games_merged = games_merged.reset_index().drop(\"index\", axis=1)"
   ]
  },
  {
   "cell_type": "code",
   "execution_count": 354,
   "metadata": {},
   "outputs": [
    {
     "data": {
      "text/plain": [
       "count    2.395800e+04\n",
       "mean     7.136054e+05\n",
       "std      3.166173e+06\n",
       "min      7.200000e+03\n",
       "25%      2.890000e+04\n",
       "50%      6.965000e+04\n",
       "75%      1.549000e+05\n",
       "max      4.498500e+07\n",
       "Name: sales_average, dtype: float64"
      ]
     },
     "execution_count": 354,
     "metadata": {},
     "output_type": "execute_result"
    }
   ],
   "source": [
    "games_merged['sales_average'].describe()"
   ]
  },
  {
   "cell_type": "code",
   "execution_count": 355,
   "metadata": {},
   "outputs": [
    {
     "data": {
      "text/plain": [
       "{'whiskers': [<matplotlib.lines.Line2D at 0x28671b730>,\n",
       "  <matplotlib.lines.Line2D at 0x2867180d0>],\n",
       " 'caps': [<matplotlib.lines.Line2D at 0x286718e20>,\n",
       "  <matplotlib.lines.Line2D at 0x28671b9d0>],\n",
       " 'boxes': [<matplotlib.lines.Line2D at 0x2817c1c30>],\n",
       " 'medians': [<matplotlib.lines.Line2D at 0x28671a350>],\n",
       " 'fliers': [<matplotlib.lines.Line2D at 0x286719210>],\n",
       " 'means': []}"
      ]
     },
     "execution_count": 355,
     "metadata": {},
     "output_type": "execute_result"
    },
    {
     "data": {
      "image/png": "[encoded data removed]",
      "text/plain": [
       "<Figure size 640x480 with 1 Axes>"
      ]
     },
     "metadata": {},
     "output_type": "display_data"
    }
   ],
   "source": [
    "plt.boxplot(games_merged['sales_average'])"
   ]
  },
  {
   "cell_type": "code",
   "execution_count": 356,
   "metadata": {},
   "outputs": [
    {
     "data": {
      "text/plain": [
       "(array([2.3106e+04, 3.9800e+02, 1.4700e+02, 1.0300e+02, 6.4000e+01,\n",
       "        3.9000e+01, 3.4000e+01, 2.5000e+01, 2.1000e+01, 2.1000e+01]),\n",
       " array([7.200000e+03, 4.504980e+06, 9.002760e+06, 1.350054e+07,\n",
       "        1.799832e+07, 2.249610e+07, 2.699388e+07, 3.149166e+07,\n",
       "        3.598944e+07, 4.048722e+07, 4.498500e+07]),\n",
       " <BarContainer object of 10 artists>)"
      ]
     },
     "execution_count": 356,
     "metadata": {},
     "output_type": "execute_result"
    },
    {
     "data": {
      "image/png": "[encoded data removed]",
      "text/plain": [
       "<Figure size 640x480 with 1 Axes>"
      ]
     },
     "metadata": {},
     "output_type": "display_data"
    }
   ],
   "source": [
    "plt.hist(games_merged['sales_average'])"
   ]
  },
  {
   "cell_type": "markdown",
   "metadata": {},
   "source": [
    "The `sales_average` column is already a calcualted variable from low and high points of owners multiplied by unit price. Since it is a calculated variable, it is binned to different levels of sales. This can also help with business interpretability."
   ]
  },
  {
   "cell_type": "markdown",
   "metadata": {},
   "source": [
    "## Categorize `sales_average` column into `low`, `medium`, and `high`"
   ]
  },
  {
   "cell_type": "code",
   "execution_count": 357,
   "metadata": {},
   "outputs": [],
   "source": [
    "# 3 bins (25 and 75th percentiles)\n",
    "\n",
    "low_25 = games_merged['sales_average'].describe()[4]\n",
    "top_25 = games_merged['sales_average'].describe()[6]\n",
    "\n",
    "# define cutoff values \n",
    "bins = [games_merged['sales_average'].min(), low_25, top_25, games_merged['sales_average'].max()]\n",
    "\n",
    "# define labels\n",
    "labels = ['low', 'medium', 'high']\n",
    "\n",
    "# categorize sales_average\n",
    "games_merged['sales_category'] = pd.cut(games_merged['sales_average'], bins=bins, labels=labels)"
   ]
  },
  {
   "cell_type": "code",
   "execution_count": 358,
   "metadata": {},
   "outputs": [
    {
     "data": {
      "text/html": [
       "<div>\n",
       "<style scoped>\n",
       "    .dataframe tbody tr th:only-of-type {\n",
       "        vertical-align: middle;\n",
       "    }\n",
       "\n",
       "    .dataframe tbody tr th {\n",
       "        vertical-align: top;\n",
       "    }\n",
       "\n",
       "    .dataframe thead th {\n",
       "        text-align: right;\n",
       "    }\n",
       "</style>\n",
       "<table border=\"1\" class=\"dataframe\">\n",
       "  <thead>\n",
       "    <tr style=\"text-align: right;\">\n",
       "      <th></th>\n",
       "      <th>appid</th>\n",
       "      <th>name</th>\n",
       "      <th>release_date</th>\n",
       "      <th>english</th>\n",
       "      <th>developer</th>\n",
       "      <th>publisher</th>\n",
       "      <th>platforms</th>\n",
       "      <th>required_age</th>\n",
       "      <th>categories</th>\n",
       "      <th>genres</th>\n",
       "      <th>...</th>\n",
       "      <th>Violent</th>\n",
       "      <th>Web Publishing</th>\n",
       "      <th>rating_num</th>\n",
       "      <th>positive_ratio</th>\n",
       "      <th>owners_low</th>\n",
       "      <th>owners_high</th>\n",
       "      <th>sales_low</th>\n",
       "      <th>sales_high</th>\n",
       "      <th>sales_average</th>\n",
       "      <th>sales_category</th>\n",
       "    </tr>\n",
       "  </thead>\n",
       "  <tbody>\n",
       "    <tr>\n",
       "      <th>17005</th>\n",
       "      <td>760740</td>\n",
       "      <td>Polaris</td>\n",
       "      <td>2017-12-20</td>\n",
       "      <td>1</td>\n",
       "      <td>Vyacheslav Notbad</td>\n",
       "      <td>Zotdinex</td>\n",
       "      <td>windows</td>\n",
       "      <td>0</td>\n",
       "      <td>Single-player</td>\n",
       "      <td>[Casual]</td>\n",
       "      <td>...</td>\n",
       "      <td>0</td>\n",
       "      <td>0</td>\n",
       "      <td>7</td>\n",
       "      <td>0.571429</td>\n",
       "      <td>0</td>\n",
       "      <td>20000</td>\n",
       "      <td>0.0</td>\n",
       "      <td>14400.0</td>\n",
       "      <td>7200.0</td>\n",
       "      <td>NaN</td>\n",
       "    </tr>\n",
       "    <tr>\n",
       "      <th>20939</th>\n",
       "      <td>892910</td>\n",
       "      <td>Space Wars</td>\n",
       "      <td>2018-07-23</td>\n",
       "      <td>1</td>\n",
       "      <td>Star Studios</td>\n",
       "      <td>Star Studios</td>\n",
       "      <td>windows;mac;linux</td>\n",
       "      <td>0</td>\n",
       "      <td>Single-player;Full controller support</td>\n",
       "      <td>[Action, Casual, Indie]</td>\n",
       "      <td>...</td>\n",
       "      <td>0</td>\n",
       "      <td>0</td>\n",
       "      <td>3</td>\n",
       "      <td>0.666667</td>\n",
       "      <td>0</td>\n",
       "      <td>20000</td>\n",
       "      <td>0.0</td>\n",
       "      <td>14400.0</td>\n",
       "      <td>7200.0</td>\n",
       "      <td>NaN</td>\n",
       "    </tr>\n",
       "  </tbody>\n",
       "</table>\n",
       "<p>2 rows × 55 columns</p>\n",
       "</div>"
      ],
      "text/plain": [
       "        appid        name release_date  english          developer   \n",
       "17005  760740     Polaris   2017-12-20        1  Vyacheslav Notbad  \\\n",
       "20939  892910  Space Wars   2018-07-23        1       Star Studios   \n",
       "\n",
       "          publisher          platforms  required_age   \n",
       "17005      Zotdinex            windows             0  \\\n",
       "20939  Star Studios  windows;mac;linux             0   \n",
       "\n",
       "                                  categories                   genres  ...   \n",
       "17005                          Single-player                 [Casual]  ...  \\\n",
       "20939  Single-player;Full controller support  [Action, Casual, Indie]  ...   \n",
       "\n",
       "      Violent  Web Publishing  rating_num  positive_ratio  owners_low   \n",
       "17005       0               0           7        0.571429           0  \\\n",
       "20939       0               0           3        0.666667           0   \n",
       "\n",
       "       owners_high sales_low  sales_high  sales_average  sales_category  \n",
       "17005        20000       0.0     14400.0         7200.0             NaN  \n",
       "20939        20000       0.0     14400.0         7200.0             NaN  \n",
       "\n",
       "[2 rows x 55 columns]"
      ]
     },
     "execution_count": 358,
     "metadata": {},
     "output_type": "execute_result"
    }
   ],
   "source": [
    "games_merged.loc[games_merged['sales_category'].isna()]"
   ]
  },
  {
   "cell_type": "code",
   "execution_count": 359,
   "metadata": {},
   "outputs": [
    {
     "data": {
      "text/plain": [
       "0"
      ]
     },
     "execution_count": 359,
     "metadata": {},
     "output_type": "execute_result"
    }
   ],
   "source": [
    "# Impute these two missing values with appropriate category\n",
    "games_merged['sales_category'] = games_merged['sales_category'].fillna('low')\n",
    "\n",
    "games_merged['sales_category'].isna().sum()"
   ]
  },
  {
   "cell_type": "code",
   "execution_count": 360,
   "metadata": {},
   "outputs": [
    {
     "data": {
      "text/plain": [
       "sales_category\n",
       "medium    0.479172\n",
       "low       0.273061\n",
       "high      0.247767\n",
       "Name: proportion, dtype: float64"
      ]
     },
     "execution_count": 360,
     "metadata": {},
     "output_type": "execute_result"
    }
   ],
   "source": [
    "games_merged['sales_category'].value_counts(normalize=True)"
   ]
  },
  {
   "cell_type": "code",
   "execution_count": 361,
   "metadata": {},
   "outputs": [
    {
     "data": {
      "text/plain": [
       "Text(0.5, 1.0, 'Percentage of Different Sales Levels')"
      ]
     },
     "execution_count": 361,
     "metadata": {},
     "output_type": "execute_result"
    },
    {
     "data": {
      "image/png": "[encoded data removed]",
      "text/plain": [
       "<Figure size 1000x500 with 1 Axes>"
      ]
     },
     "metadata": {},
     "output_type": "display_data"
    }
   ],
   "source": [
    "# Visualize proportion of different categories of sales\n",
    "sales_labels = ['Medium', 'High', 'Low']\n",
    "sales_data = games_merged['sales_category'].value_counts(normalize=True).values\n",
    "\n",
    "fig, ax = plt.subplots(figsize=(10,5))\n",
    "ax.pie(sales_data, labels=sales_labels, autopct='%1.1f%%')\n",
    "\n",
    "ax.set_title('Percentage of Different Sales Levels')"
   ]
  },
  {
   "cell_type": "markdown",
   "metadata": {},
   "source": [
    "# Pre-processing Before Classification Models"
   ]
  },
  {
   "cell_type": "code",
   "execution_count": 405,
   "metadata": {},
   "outputs": [
    {
     "data": {
      "text/plain": [
       "31"
      ]
     },
     "execution_count": 405,
     "metadata": {},
     "output_type": "execute_result"
    }
   ],
   "source": [
    "# relevant_columns = ['appid', 'rating_num', 'positive_ratio'] + genre_names\n",
    "relevant_columns = ['rating_num', 'positive_ratio'] + genre_names\n",
    "\n",
    "len(relevant_columns)"
   ]
  },
  {
   "cell_type": "code",
   "execution_count": 406,
   "metadata": {},
   "outputs": [],
   "source": [
    "from sklearn.model_selection import train_test_split\n",
    "\n",
    "X = games_merged[relevant_columns]\n",
    "y = games_merged['sales_category']\n",
    "\n",
    "X_train, X_test, y_train, y_test = train_test_split(X, y, random_state=42)"
   ]
  },
  {
   "cell_type": "code",
   "execution_count": 407,
   "metadata": {},
   "outputs": [],
   "source": [
    "from imblearn.over_sampling import SMOTE\n",
    "\n",
    "smote = SMOTE(random_state=42)\n",
    "\n",
    "X_train_smote, y_train_smote = smote.fit_resample(X_train, y_train)"
   ]
  },
  {
   "cell_type": "markdown",
   "metadata": {},
   "source": [
    "# Baseline Model: `DummyClassifier`"
   ]
  },
  {
   "cell_type": "code",
   "execution_count": 408,
   "metadata": {},
   "outputs": [
    {
     "data": {
      "text/plain": [
       "0.32921535893155257"
      ]
     },
     "execution_count": 408,
     "metadata": {},
     "output_type": "execute_result"
    }
   ],
   "source": [
    "from sklearn.dummy import DummyClassifier\n",
    "from sklearn.metrics import classification_report\n",
    "\n",
    "dummy_clf = DummyClassifier(strategy='stratified')\n",
    "dummy_clf.fit(X_train_smote, y_train_smote)\n",
    "y_pred_dummy_clf = dummy_clf.predict(X_test)\n",
    "dummy_clf.score(X_test, y_test)"
   ]
  },
  {
   "cell_type": "code",
   "execution_count": 409,
   "metadata": {},
   "outputs": [
    {
     "name": "stdout",
     "output_type": "stream",
     "text": [
      "              precision    recall  f1-score   support\n",
      "\n",
      "        high       0.26      0.35      0.30      1469\n",
      "         low       0.28      0.34      0.31      1636\n",
      "      medium       0.48      0.34      0.40      2885\n",
      "\n",
      "    accuracy                           0.34      5990\n",
      "   macro avg       0.34      0.34      0.33      5990\n",
      "weighted avg       0.37      0.34      0.35      5990\n",
      "\n"
     ]
    }
   ],
   "source": [
    "report = classification_report(y_test, y_pred_dummy_clf)\n",
    "print(report)"
   ]
  },
  {
   "cell_type": "markdown",
   "metadata": {},
   "source": [
    "# Classification Model 1: Decision Tree"
   ]
  },
  {
   "cell_type": "code",
   "execution_count": 410,
   "metadata": {},
   "outputs": [
    {
     "data": {
      "text/plain": [
       "0.5382303839732888"
      ]
     },
     "execution_count": 410,
     "metadata": {},
     "output_type": "execute_result"
    }
   ],
   "source": [
    "from sklearn.tree import DecisionTreeClassifier\n",
    "\n",
    "dt_clf = DecisionTreeClassifier(max_depth=3)\n",
    "dt_clf.fit(X_train_smote, y_train_smote)\n",
    "\n",
    "dt_clf.score(X_test, y_test)"
   ]
  },
  {
   "cell_type": "code",
   "execution_count": 411,
   "metadata": {},
   "outputs": [
    {
     "data": {
      "text/html": [
       "<style>#sk-container-id-11 {color: black;background-color: white;}#sk-container-id-11 pre{padding: 0;}#sk-container-id-11 div.sk-toggleable {background-color: white;}#sk-container-id-11 label.sk-toggleable__label {cursor: pointer;display: block;width: 100%;margin-bottom: 0;padding: 0.3em;box-sizing: border-box;text-align: center;}#sk-container-id-11 label.sk-toggleable__label-arrow:before {content: \"▸\";float: left;margin-right: 0.25em;color: #696969;}#sk-container-id-11 label.sk-toggleable__label-arrow:hover:before {color: black;}#sk-container-id-11 div.sk-estimator:hover label.sk-toggleable__label-arrow:before {color: black;}#sk-container-id-11 div.sk-toggleable__content {max-height: 0;max-width: 0;overflow: hidden;text-align: left;background-color: #f0f8ff;}#sk-container-id-11 div.sk-toggleable__content pre {margin: 0.2em;color: black;border-radius: 0.25em;background-color: #f0f8ff;}#sk-container-id-11 input.sk-toggleable__control:checked~div.sk-toggleable__content {max-height: 200px;max-width: 100%;overflow: auto;}#sk-container-id-11 input.sk-toggleable__control:checked~label.sk-toggleable__label-arrow:before {content: \"▾\";}#sk-container-id-11 div.sk-estimator input.sk-toggleable__control:checked~label.sk-toggleable__label {background-color: #d4ebff;}#sk-container-id-11 div.sk-label input.sk-toggleable__control:checked~label.sk-toggleable__label {background-color: #d4ebff;}#sk-container-id-11 input.sk-hidden--visually {border: 0;clip: rect(1px 1px 1px 1px);clip: rect(1px, 1px, 1px, 1px);height: 1px;margin: -1px;overflow: hidden;padding: 0;position: absolute;width: 1px;}#sk-container-id-11 div.sk-estimator {font-family: monospace;background-color: #f0f8ff;border: 1px dotted black;border-radius: 0.25em;box-sizing: border-box;margin-bottom: 0.5em;}#sk-container-id-11 div.sk-estimator:hover {background-color: #d4ebff;}#sk-container-id-11 div.sk-parallel-item::after {content: \"\";width: 100%;border-bottom: 1px solid gray;flex-grow: 1;}#sk-container-id-11 div.sk-label:hover label.sk-toggleable__label {background-color: #d4ebff;}#sk-container-id-11 div.sk-serial::before {content: \"\";position: absolute;border-left: 1px solid gray;box-sizing: border-box;top: 0;bottom: 0;left: 50%;z-index: 0;}#sk-container-id-11 div.sk-serial {display: flex;flex-direction: column;align-items: center;background-color: white;padding-right: 0.2em;padding-left: 0.2em;position: relative;}#sk-container-id-11 div.sk-item {position: relative;z-index: 1;}#sk-container-id-11 div.sk-parallel {display: flex;align-items: stretch;justify-content: center;background-color: white;position: relative;}#sk-container-id-11 div.sk-item::before, #sk-container-id-11 div.sk-parallel-item::before {content: \"\";position: absolute;border-left: 1px solid gray;box-sizing: border-box;top: 0;bottom: 0;left: 50%;z-index: -1;}#sk-container-id-11 div.sk-parallel-item {display: flex;flex-direction: column;z-index: 1;position: relative;background-color: white;}#sk-container-id-11 div.sk-parallel-item:first-child::after {align-self: flex-end;width: 50%;}#sk-container-id-11 div.sk-parallel-item:last-child::after {align-self: flex-start;width: 50%;}#sk-container-id-11 div.sk-parallel-item:only-child::after {width: 0;}#sk-container-id-11 div.sk-dashed-wrapped {border: 1px dashed gray;margin: 0 0.4em 0.5em 0.4em;box-sizing: border-box;padding-bottom: 0.4em;background-color: white;}#sk-container-id-11 div.sk-label label {font-family: monospace;font-weight: bold;display: inline-block;line-height: 1.2em;}#sk-container-id-11 div.sk-label-container {text-align: center;}#sk-container-id-11 div.sk-container {/* jupyter's `normalize.less` sets `[hidden] { display: none; }` but bootstrap.min.css set `[hidden] { display: none !important; }` so we also need the `!important` here to be able to override the default hidden behavior on the sphinx rendered scikit-learn.org. See: https://github.com/scikit-learn/scikit-learn/issues/21755 */display: inline-block !important;position: relative;}#sk-container-id-11 div.sk-text-repr-fallback {display: none;}</style><div id=\"sk-container-id-11\" class=\"sk-top-container\"><div class=\"sk-text-repr-fallback\"><pre>GridSearchCV(estimator=DecisionTreeClassifier(max_depth=3),\n",
       "             param_grid={&#x27;criterion&#x27;: [&#x27;gini&#x27;, &#x27;entropy&#x27;, &#x27;log_loss&#x27;],\n",
       "                         &#x27;max_depth&#x27;: [3, 4, 5, 6]})</pre><b>In a Jupyter environment, please rerun this cell to show the HTML representation or trust the notebook. <br />On GitHub, the HTML representation is unable to render, please try loading this page with nbviewer.org.</b></div><div class=\"sk-container\" hidden><div class=\"sk-item sk-dashed-wrapped\"><div class=\"sk-label-container\"><div class=\"sk-label sk-toggleable\"><input class=\"sk-toggleable__control sk-hidden--visually\" id=\"sk-estimator-id-15\" type=\"checkbox\" ><label for=\"sk-estimator-id-15\" class=\"sk-toggleable__label sk-toggleable__label-arrow\">GridSearchCV</label><div class=\"sk-toggleable__content\"><pre>GridSearchCV(estimator=DecisionTreeClassifier(max_depth=3),\n",
       "             param_grid={&#x27;criterion&#x27;: [&#x27;gini&#x27;, &#x27;entropy&#x27;, &#x27;log_loss&#x27;],\n",
       "                         &#x27;max_depth&#x27;: [3, 4, 5, 6]})</pre></div></div></div><div class=\"sk-parallel\"><div class=\"sk-parallel-item\"><div class=\"sk-item\"><div class=\"sk-label-container\"><div class=\"sk-label sk-toggleable\"><input class=\"sk-toggleable__control sk-hidden--visually\" id=\"sk-estimator-id-16\" type=\"checkbox\" ><label for=\"sk-estimator-id-16\" class=\"sk-toggleable__label sk-toggleable__label-arrow\">estimator: DecisionTreeClassifier</label><div class=\"sk-toggleable__content\"><pre>DecisionTreeClassifier(max_depth=3)</pre></div></div></div><div class=\"sk-serial\"><div class=\"sk-item\"><div class=\"sk-estimator sk-toggleable\"><input class=\"sk-toggleable__control sk-hidden--visually\" id=\"sk-estimator-id-17\" type=\"checkbox\" ><label for=\"sk-estimator-id-17\" class=\"sk-toggleable__label sk-toggleable__label-arrow\">DecisionTreeClassifier</label><div class=\"sk-toggleable__content\"><pre>DecisionTreeClassifier(max_depth=3)</pre></div></div></div></div></div></div></div></div></div></div>"
      ],
      "text/plain": [
       "GridSearchCV(estimator=DecisionTreeClassifier(max_depth=3),\n",
       "             param_grid={'criterion': ['gini', 'entropy', 'log_loss'],\n",
       "                         'max_depth': [3, 4, 5, 6]})"
      ]
     },
     "execution_count": 411,
     "metadata": {},
     "output_type": "execute_result"
    }
   ],
   "source": [
    "from sklearn.model_selection import GridSearchCV\n",
    "\n",
    "dt_grid = {\n",
    "    'max_depth': [3, 4, 5, 6],\n",
    "    'criterion': ['gini', 'entropy', 'log_loss']\n",
    "}\n",
    "\n",
    "gs_dt = GridSearchCV(estimator=dt_clf, param_grid=dt_grid)\n",
    "gs_dt.fit(X_train_smote, y_train_smote)"
   ]
  },
  {
   "cell_type": "code",
   "execution_count": 413,
   "metadata": {},
   "outputs": [
    {
     "data": {
      "text/plain": [
       "{'criterion': 'gini', 'max_depth': 6}"
      ]
     },
     "execution_count": 413,
     "metadata": {},
     "output_type": "execute_result"
    }
   ],
   "source": [
    "gs_dt.best_params_\n",
    "gs_dt.best_estimator_"
   ]
  },
  {
   "cell_type": "code",
   "execution_count": 414,
   "metadata": {},
   "outputs": [
    {
     "data": {
      "text/plain": [
       "0.6270450751252087"
      ]
     },
     "execution_count": 414,
     "metadata": {},
     "output_type": "execute_result"
    }
   ],
   "source": [
    "# Run decision tree with best parameters from grid search\n",
    "dt_clf_final = DecisionTreeClassifier(criterion='gini', max_depth=6)\n",
    "dt_clf_final.fit(X_train_smote, y_train_smote)\n",
    "\n",
    "dt_clf_final.score(X_test, y_test)"
   ]
  },
  {
   "cell_type": "code",
   "execution_count": 415,
   "metadata": {},
   "outputs": [
    {
     "data": {
      "text/plain": [
       "[Text(0.5, 0.9285714285714286, 'x[0] <= 132.5\\ngini = 0.667\\nsamples = 25785\\nvalue = [8595, 8595, 8595]'),\n",
       " Text(0.25, 0.7857142857142857, 'x[0] <= 50.5\\ngini = 0.58\\nsamples = 17433\\nvalue = [1637, 8228, 7568]'),\n",
       " Text(0.125, 0.6428571428571429, 'x[10] <= 0.5\\ngini = 0.534\\nsamples = 13791\\nvalue = [556, 7221, 6014]'),\n",
       " Text(0.0625, 0.5, 'x[15] <= 0.5\\ngini = 0.528\\nsamples = 12411\\nvalue = [517, 6872, 5022]'),\n",
       " Text(0.03125, 0.35714285714285715, 'x[0] <= 20.5\\ngini = 0.579\\nsamples = 2821\\nvalue = [337, 969, 1515]'),\n",
       " Text(0.015625, 0.21428571428571427, 'x[4] <= 0.5\\ngini = 0.53\\nsamples = 1958\\nvalue = [90, 780, 1088]'),\n",
       " Text(0.0078125, 0.07142857142857142, 'gini = 0.547\\nsamples = 1314\\nvalue = [72, 571, 671]'),\n",
       " Text(0.0234375, 0.07142857142857142, 'gini = 0.475\\nsamples = 644\\nvalue = [18, 209, 417]'),\n",
       " Text(0.046875, 0.21428571428571427, 'x[7] <= 0.5\\ngini = 0.625\\nsamples = 863\\nvalue = [247, 189, 427]'),\n",
       " Text(0.0390625, 0.07142857142857142, 'gini = 0.638\\nsamples = 584\\nvalue = [214, 117, 253]'),\n",
       " Text(0.0546875, 0.07142857142857142, 'gini = 0.53\\nsamples = 279\\nvalue = [33, 72, 174]'),\n",
       " Text(0.09375, 0.35714285714285715, 'x[7] <= 0.5\\ngini = 0.487\\nsamples = 9590\\nvalue = [180, 5903, 3507]'),\n",
       " Text(0.078125, 0.21428571428571427, 'x[0] <= 16.5\\ngini = 0.521\\nsamples = 4742\\nvalue = [134, 2575, 2033]'),\n",
       " Text(0.0703125, 0.07142857142857142, 'gini = 0.491\\nsamples = 2824\\nvalue = [38, 1690, 1096]'),\n",
       " Text(0.0859375, 0.07142857142857142, 'gini = 0.546\\nsamples = 1918\\nvalue = [96, 885, 937]'),\n",
       " Text(0.109375, 0.21428571428571427, 'x[1] <= 0.5\\ngini = 0.436\\nsamples = 4848\\nvalue = [46, 3328, 1474]'),\n",
       " Text(0.1015625, 0.07142857142857142, 'gini = 0.341\\nsamples = 992\\nvalue = [10, 779, 203]'),\n",
       " Text(0.1171875, 0.07142857142857142, 'gini = 0.454\\nsamples = 3856\\nvalue = [36, 2549, 1271]'),\n",
       " Text(0.1875, 0.5, 'x[0] <= 4.5\\ngini = 0.419\\nsamples = 1380\\nvalue = [39, 349, 992]'),\n",
       " Text(0.15625, 0.35714285714285715, 'x[19] <= 0.5\\ngini = 0.475\\nsamples = 403\\nvalue = [4, 146, 253]'),\n",
       " Text(0.140625, 0.21428571428571427, 'x[29] <= 0.5\\ngini = 0.487\\nsamples = 336\\nvalue = [4, 129, 203]'),\n",
       " Text(0.1328125, 0.07142857142857142, 'gini = 0.492\\nsamples = 320\\nvalue = [4, 126, 190]'),\n",
       " Text(0.1484375, 0.07142857142857142, 'gini = 0.305\\nsamples = 16\\nvalue = [0, 3, 13]'),\n",
       " Text(0.171875, 0.21428571428571427, 'x[25] <= 0.5\\ngini = 0.379\\nsamples = 67\\nvalue = [0, 17, 50]'),\n",
       " Text(0.1640625, 0.07142857142857142, 'gini = 0.44\\nsamples = 46\\nvalue = [0, 15, 31]'),\n",
       " Text(0.1796875, 0.07142857142857142, 'gini = 0.172\\nsamples = 21\\nvalue = [0, 2, 19]'),\n",
       " Text(0.21875, 0.35714285714285715, 'x[7] <= 0.5\\ngini = 0.383\\nsamples = 977\\nvalue = [35, 203, 739]'),\n",
       " Text(0.203125, 0.21428571428571427, 'x[0] <= 25.5\\ngini = 0.36\\nsamples = 708\\nvalue = [30, 127, 551]'),\n",
       " Text(0.1953125, 0.07142857142857142, 'gini = 0.397\\nsamples = 530\\nvalue = [25, 109, 396]'),\n",
       " Text(0.2109375, 0.07142857142857142, 'gini = 0.231\\nsamples = 178\\nvalue = [5, 18, 155]'),\n",
       " Text(0.234375, 0.21428571428571427, 'x[1] <= 0.757\\ngini = 0.431\\nsamples = 269\\nvalue = [5, 76, 188]'),\n",
       " Text(0.2265625, 0.07142857142857142, 'gini = 0.471\\nsamples = 139\\nvalue = [2, 48, 89]'),\n",
       " Text(0.2421875, 0.07142857142857142, 'gini = 0.373\\nsamples = 130\\nvalue = [3, 28, 99]'),\n",
       " Text(0.375, 0.6428571428571429, 'x[15] <= 0.5\\ngini = 0.653\\nsamples = 3642\\nvalue = [1081, 1007, 1554]'),\n",
       " Text(0.3125, 0.5, 'x[22] <= 0.5\\ngini = 0.589\\nsamples = 1124\\nvalue = [592, 150, 382]'),\n",
       " Text(0.28125, 0.35714285714285715, 'x[7] <= 0.5\\ngini = 0.573\\nsamples = 928\\nvalue = [524, 125, 279]'),\n",
       " Text(0.265625, 0.21428571428571427, 'x[10] <= 0.5\\ngini = 0.525\\nsamples = 644\\nvalue = [399, 60, 185]'),\n",
       " Text(0.2578125, 0.07142857142857142, 'gini = 0.514\\nsamples = 624\\nvalue = [396, 58, 170]'),\n",
       " Text(0.2734375, 0.07142857142857142, 'gini = 0.405\\nsamples = 20\\nvalue = [3, 2, 15]'),\n",
       " Text(0.296875, 0.21428571428571427, 'x[3] <= 0.5\\ngini = 0.644\\nsamples = 284\\nvalue = [125, 65, 94]'),\n",
       " Text(0.2890625, 0.07142857142857142, 'gini = 0.633\\nsamples = 258\\nvalue = [123, 58, 77]'),\n",
       " Text(0.3046875, 0.07142857142857142, 'gini = 0.494\\nsamples = 26\\nvalue = [2, 7, 17]'),\n",
       " Text(0.34375, 0.35714285714285715, 'x[0] <= 107.5\\ngini = 0.587\\nsamples = 196\\nvalue = [68, 25, 103]'),\n",
       " Text(0.328125, 0.21428571428571427, 'x[0] <= 89.5\\ngini = 0.584\\nsamples = 158\\nvalue = [45, 25, 88]'),\n",
       " Text(0.3203125, 0.07142857142857142, 'gini = 0.615\\nsamples = 130\\nvalue = [39, 25, 66]'),\n",
       " Text(0.3359375, 0.07142857142857142, 'gini = 0.337\\nsamples = 28\\nvalue = [6, 0, 22]'),\n",
       " Text(0.359375, 0.21428571428571427, 'x[24] <= 0.5\\ngini = 0.478\\nsamples = 38\\nvalue = [23, 0, 15]'),\n",
       " Text(0.3515625, 0.07142857142857142, 'gini = 0.444\\nsamples = 33\\nvalue = [22, 0, 11]'),\n",
       " Text(0.3671875, 0.07142857142857142, 'gini = 0.32\\nsamples = 5\\nvalue = [1, 0, 4]'),\n",
       " Text(0.4375, 0.5, 'x[10] <= 0.5\\ngini = 0.63\\nsamples = 2518\\nvalue = [489, 857, 1172]'),\n",
       " Text(0.40625, 0.35714285714285715, 'x[7] <= 0.5\\ngini = 0.639\\nsamples = 2322\\nvalue = [477, 830, 1015]'),\n",
       " Text(0.390625, 0.21428571428571427, 'x[1] <= 0.761\\ngini = 0.636\\nsamples = 1418\\nvalue = [341, 406, 671]'),\n",
       " Text(0.3828125, 0.07142857142857142, 'gini = 0.659\\nsamples = 751\\nvalue = [247, 207, 297]'),\n",
       " Text(0.3984375, 0.07142857142857142, 'gini = 0.577\\nsamples = 667\\nvalue = [94, 199, 374]'),\n",
       " Text(0.421875, 0.21428571428571427, 'x[0] <= 87.5\\ngini = 0.613\\nsamples = 904\\nvalue = [136, 424, 344]'),\n",
       " Text(0.4140625, 0.07142857142857142, 'gini = 0.558\\nsamples = 584\\nvalue = [42, 304, 238]'),\n",
       " Text(0.4296875, 0.07142857142857142, 'gini = 0.663\\nsamples = 320\\nvalue = [94, 120, 106]'),\n",
       " Text(0.46875, 0.35714285714285715, 'x[1] <= 0.776\\ngini = 0.336\\nsamples = 196\\nvalue = [12, 27, 157]'),\n",
       " Text(0.453125, 0.21428571428571427, 'x[22] <= 0.5\\ngini = 0.424\\nsamples = 112\\nvalue = [10, 20, 82]'),\n",
       " Text(0.4453125, 0.07142857142857142, 'gini = 0.49\\nsamples = 71\\nvalue = [6, 18, 47]'),\n",
       " Text(0.4609375, 0.07142857142857142, 'gini = 0.259\\nsamples = 41\\nvalue = [4, 2, 35]'),\n",
       " Text(0.484375, 0.21428571428571427, 'x[0] <= 131.0\\ngini = 0.195\\nsamples = 84\\nvalue = [2, 7, 75]'),\n",
       " Text(0.4765625, 0.07142857142857142, 'gini = 0.176\\nsamples = 83\\nvalue = [1, 7, 75]'),\n",
       " Text(0.4921875, 0.07142857142857142, 'gini = 0.0\\nsamples = 1\\nvalue = [1, 0, 0]'),\n",
       " Text(0.75, 0.7857142857142857, 'x[0] <= 299.5\\ngini = 0.289\\nsamples = 8352\\nvalue = [6958, 367, 1027]'),\n",
       " Text(0.625, 0.6428571428571429, 'x[15] <= 0.5\\ngini = 0.541\\nsamples = 2519\\nvalue = [1526, 286, 707]'),\n",
       " Text(0.5625, 0.5, 'x[29] <= 0.5\\ngini = 0.335\\nsamples = 885\\nvalue = [706, 34, 145]'),\n",
       " Text(0.53125, 0.35714285714285715, 'x[7] <= 0.5\\ngini = 0.323\\nsamples = 868\\nvalue = [701, 34, 133]'),\n",
       " Text(0.515625, 0.21428571428571427, 'x[1] <= 0.362\\ngini = 0.277\\nsamples = 732\\nvalue = [614, 17, 101]'),\n",
       " Text(0.5078125, 0.07142857142857142, 'gini = 0.494\\nsamples = 18\\nvalue = [8, 0, 10]'),\n",
       " Text(0.5234375, 0.07142857142857142, 'gini = 0.263\\nsamples = 714\\nvalue = [606, 17, 91]'),\n",
       " Text(0.546875, 0.21428571428571427, 'x[1] <= 0.751\\ngini = 0.52\\nsamples = 136\\nvalue = [87, 17, 32]'),\n",
       " Text(0.5390625, 0.07142857142857142, 'gini = 0.296\\nsamples = 53\\nvalue = [44, 5, 4]'),\n",
       " Text(0.5546875, 0.07142857142857142, 'gini = 0.597\\nsamples = 83\\nvalue = [43, 12, 28]'),\n",
       " Text(0.59375, 0.35714285714285715, 'x[0] <= 222.5\\ngini = 0.415\\nsamples = 17\\nvalue = [5, 0, 12]'),\n",
       " Text(0.578125, 0.21428571428571427, 'x[19] <= 0.5\\ngini = 0.165\\nsamples = 11\\nvalue = [1, 0, 10]'),\n",
       " Text(0.5703125, 0.07142857142857142, 'gini = 0.0\\nsamples = 9\\nvalue = [0, 0, 9]'),\n",
       " Text(0.5859375, 0.07142857142857142, 'gini = 0.5\\nsamples = 2\\nvalue = [1, 0, 1]'),\n",
       " Text(0.609375, 0.21428571428571427, 'x[17] <= 0.5\\ngini = 0.444\\nsamples = 6\\nvalue = [4, 0, 2]'),\n",
       " Text(0.6015625, 0.07142857142857142, 'gini = 0.444\\nsamples = 3\\nvalue = [1, 0, 2]'),\n",
       " Text(0.6171875, 0.07142857142857142, 'gini = 0.0\\nsamples = 3\\nvalue = [3, 0, 0]'),\n",
       " Text(0.6875, 0.5, 'x[1] <= 0.88\\ngini = 0.606\\nsamples = 1634\\nvalue = [820, 252, 562]'),\n",
       " Text(0.65625, 0.35714285714285715, 'x[10] <= 0.5\\ngini = 0.57\\nsamples = 1298\\nvalue = [734, 165, 399]'),\n",
       " Text(0.640625, 0.21428571428571427, 'x[22] <= 0.5\\ngini = 0.558\\nsamples = 1202\\nvalue = [708, 159, 335]'),\n",
       " Text(0.6328125, 0.07142857142857142, 'gini = 0.539\\nsamples = 1030\\nvalue = [636, 137, 257]'),\n",
       " Text(0.6484375, 0.07142857142857142, 'gini = 0.603\\nsamples = 172\\nvalue = [72, 22, 78]'),\n",
       " Text(0.671875, 0.21428571428571427, 'x[0] <= 185.5\\ngini = 0.478\\nsamples = 96\\nvalue = [26, 6, 64]'),\n",
       " Text(0.6640625, 0.07142857142857142, 'gini = 0.34\\nsamples = 35\\nvalue = [4, 3, 28]'),\n",
       " Text(0.6796875, 0.07142857142857142, 'gini = 0.519\\nsamples = 61\\nvalue = [22, 3, 36]'),\n",
       " Text(0.71875, 0.35714285714285715, 'x[10] <= 0.5\\ngini = 0.632\\nsamples = 336\\nvalue = [86, 87, 163]'),\n",
       " Text(0.703125, 0.21428571428571427, 'x[1] <= 0.955\\ngini = 0.648\\nsamples = 302\\nvalue = [83, 85, 134]'),\n",
       " Text(0.6953125, 0.07142857142857142, 'gini = 0.66\\nsamples = 235\\nvalue = [77, 65, 93]'),\n",
       " Text(0.7109375, 0.07142857142857142, 'gini = 0.528\\nsamples = 67\\nvalue = [6, 20, 41]'),\n",
       " Text(0.734375, 0.21428571428571427, 'x[20] <= 0.5\\ngini = 0.261\\nsamples = 34\\nvalue = [3, 2, 29]'),\n",
       " Text(0.7265625, 0.07142857142857142, 'gini = 0.22\\nsamples = 33\\nvalue = [2, 2, 29]'),\n",
       " Text(0.7421875, 0.07142857142857142, 'gini = 0.0\\nsamples = 1\\nvalue = [1, 0, 0]'),\n",
       " Text(0.875, 0.6428571428571429, 'x[0] <= 497.5\\ngini = 0.13\\nsamples = 5833\\nvalue = [5432, 81, 320]'),\n",
       " Text(0.8125, 0.5, 'x[15] <= 0.5\\ngini = 0.301\\nsamples = 1479\\nvalue = [1219, 61, 199]'),\n",
       " Text(0.78125, 0.35714285714285715, 'x[16] <= 0.5\\ngini = 0.094\\nsamples = 567\\nvalue = [539, 0, 28]'),\n",
       " Text(0.765625, 0.21428571428571427, 'x[1] <= 0.989\\ngini = 0.088\\nsamples = 564\\nvalue = [538, 0, 26]'),\n",
       " Text(0.7578125, 0.07142857142857142, 'gini = 0.085\\nsamples = 563\\nvalue = [538, 0, 25]'),\n",
       " Text(0.7734375, 0.07142857142857142, 'gini = 0.0\\nsamples = 1\\nvalue = [0, 0, 1]'),\n",
       " Text(0.796875, 0.21428571428571427, 'x[0] <= 381.0\\ngini = 0.444\\nsamples = 3\\nvalue = [1, 0, 2]'),\n",
       " Text(0.7890625, 0.07142857142857142, 'gini = 0.0\\nsamples = 1\\nvalue = [0, 0, 1]'),\n",
       " Text(0.8046875, 0.07142857142857142, 'gini = 0.5\\nsamples = 2\\nvalue = [1, 0, 1]'),\n",
       " Text(0.84375, 0.35714285714285715, 'x[1] <= 0.951\\ngini = 0.404\\nsamples = 912\\nvalue = [680, 61, 171]'),\n",
       " Text(0.828125, 0.21428571428571427, 'x[7] <= 0.5\\ngini = 0.379\\nsamples = 877\\nvalue = [672, 54, 151]'),\n",
       " Text(0.8203125, 0.07142857142857142, 'gini = 0.322\\nsamples = 684\\nvalue = [553, 28, 103]'),\n",
       " Text(0.8359375, 0.07142857142857142, 'gini = 0.54\\nsamples = 193\\nvalue = [119, 26, 48]'),\n",
       " Text(0.859375, 0.21428571428571427, 'x[1] <= 0.96\\ngini = 0.581\\nsamples = 35\\nvalue = [8, 7, 20]'),\n",
       " Text(0.8515625, 0.07142857142857142, 'gini = 0.653\\nsamples = 12\\nvalue = [3, 5, 4]'),\n",
       " Text(0.8671875, 0.07142857142857142, 'gini = 0.461\\nsamples = 23\\nvalue = [5, 2, 16]'),\n",
       " Text(0.9375, 0.5, 'x[7] <= 0.5\\ngini = 0.063\\nsamples = 4354\\nvalue = [4213, 20, 121]'),\n",
       " Text(0.90625, 0.35714285714285715, 'x[0] <= 682.5\\ngini = 0.039\\nsamples = 3898\\nvalue = [3821, 9, 68]'),\n",
       " Text(0.890625, 0.21428571428571427, 'x[1] <= 0.958\\ngini = 0.134\\nsamples = 688\\nvalue = [639, 8, 41]'),\n",
       " Text(0.8828125, 0.07142857142857142, 'gini = 0.121\\nsamples = 671\\nvalue = [628, 8, 35]'),\n",
       " Text(0.8984375, 0.07142857142857142, 'gini = 0.457\\nsamples = 17\\nvalue = [11, 0, 6]'),\n",
       " Text(0.921875, 0.21428571428571427, 'x[0] <= 1048.5\\ngini = 0.017\\nsamples = 3210\\nvalue = [3182, 1, 27]'),\n",
       " Text(0.9140625, 0.07142857142857142, 'gini = 0.055\\nsamples = 636\\nvalue = [618, 1, 17]'),\n",
       " Text(0.9296875, 0.07142857142857142, 'gini = 0.008\\nsamples = 2574\\nvalue = [2564, 0, 10]'),\n",
       " Text(0.96875, 0.35714285714285715, 'x[1] <= 0.861\\ngini = 0.247\\nsamples = 456\\nvalue = [392, 11, 53]'),\n",
       " Text(0.953125, 0.21428571428571427, 'x[0] <= 1429.0\\ngini = 0.141\\nsamples = 239\\nvalue = [221, 3, 15]'),\n",
       " Text(0.9453125, 0.07142857142857142, 'gini = 0.191\\nsamples = 162\\nvalue = [145, 3, 14]'),\n",
       " Text(0.9609375, 0.07142857142857142, 'gini = 0.026\\nsamples = 77\\nvalue = [76, 0, 1]'),\n",
       " Text(0.984375, 0.21428571428571427, 'x[0] <= 2332.0\\ngini = 0.347\\nsamples = 217\\nvalue = [171, 8, 38]'),\n",
       " Text(0.9765625, 0.07142857142857142, 'gini = 0.439\\nsamples = 141\\nvalue = [100, 8, 33]'),\n",
       " Text(0.9921875, 0.07142857142857142, 'gini = 0.123\\nsamples = 76\\nvalue = [71, 0, 5]')]"
      ]
     },
     "execution_count": 415,
     "metadata": {},
     "output_type": "execute_result"
    },
    {
     "data": {
      "image/png": "[encoded data removed]",
      "text/plain": [
       "<Figure size 1000x500 with 1 Axes>"
      ]
     },
     "metadata": {},
     "output_type": "display_data"
    }
   ],
   "source": [
    "from sklearn.tree import plot_tree\n",
    "\n",
    "f, ax = plt.subplots(figsize=(10,5))\n",
    "plot_tree(dt_clf_final, ax=ax)"
   ]
  },
  {
   "cell_type": "code",
   "execution_count": 426,
   "metadata": {},
   "outputs": [
    {
     "data": {
      "text/plain": [
       "{'rating_num': 0.825062556591134,\n",
       " 'Indie': 0.07165641706446897,\n",
       " 'Early Access': 0.04660064874401524,\n",
       " 'Casual': 0.025944574644674853,\n",
       " 'positive_ratio': 0.019833301387353293}"
      ]
     },
     "execution_count": 426,
     "metadata": {},
     "output_type": "execute_result"
    }
   ],
   "source": [
    "# Feature importances\n",
    "feature_imp = {}\n",
    "for fi, feature in zip(dt_clf_final.feature_importances_, dt_clf_final.feature_names_in_):\n",
    "    feature_imp[feature] = fi\n",
    "\n",
    "dt_5_imp_features = {key:value for key, value in sorted(feature_imp.items(), key=lambda x: x[1], reverse=True)[:5]}\n",
    "\n",
    "dt_5_imp_features"
   ]
  },
  {
   "cell_type": "code",
   "execution_count": 429,
   "metadata": {},
   "outputs": [
    {
     "data": {
      "text/plain": [
       "sales_category\n",
       "medium    2885\n",
       "low       1636\n",
       "high      1469\n",
       "Name: count, dtype: int64"
      ]
     },
     "execution_count": 429,
     "metadata": {},
     "output_type": "execute_result"
    }
   ],
   "source": [
    "y_test.value_counts()"
   ]
  },
  {
   "cell_type": "code",
   "execution_count": 439,
   "metadata": {},
   "outputs": [
    {
     "data": {
      "text/plain": [
       "Text(0.5, 1.0, 'Confusion Matrix for Sales Categories from Decision Tree')"
      ]
     },
     "execution_count": 439,
     "metadata": {},
     "output_type": "execute_result"
    },
    {
     "data": {
      "image/png": "[encoded data removed]",
      "text/plain": [
       "<Figure size 1000x500 with 2 Axes>"
      ]
     },
     "metadata": {},
     "output_type": "display_data"
    }
   ],
   "source": [
    "from sklearn.metrics import confusion_matrix, ConfusionMatrixDisplay\n",
    "\n",
    "dt_clf_pred = dt_clf_final.predict(X_test)\n",
    "\n",
    "cm_labels = ['low', 'medium', 'high']\n",
    "\n",
    "fig, ax = plt.subplots(figsize=(10,5))\n",
    "ConfusionMatrixDisplay.from_predictions(y_test, dt_clf_pred, labels=cm_labels, ax=ax)\n",
    "ax.xaxis.set_ticklabels(cm_labels)\n",
    "ax.yaxis.set_ticklabels(cm_labels)\n",
    "ax.set_title(\"Confusion Matrix for Sales Categories from Decision Tree\")"
   ]
  }
 ],
 "metadata": {
  "kernelspec": {
   "display_name": "Python 3.10.2 64-bit",
   "language": "python",
   "name": "python3"
  },
  "language_info": {
   "codemirror_mode": {
    "name": "ipython",
    "version": 3
   },
   "file_extension": ".py",
   "mimetype": "text/x-python",
   "name": "python",
   "nbconvert_exporter": "python",
   "pygments_lexer": "ipython3",
   "version": "3.10.2"
  },
  "orig_nbformat": 4,
  "vscode": {
   "interpreter": {
    "hash": "aee8b7b246df8f9039afb4144a1f6fd8d2ca17a180786b69acc140d282b71a49"
   }
  }
 },
 "nbformat": 4,
 "nbformat_minor": 2
}
