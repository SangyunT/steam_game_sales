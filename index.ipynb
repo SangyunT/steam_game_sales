{
 "cells": [
  {
   "cell_type": "code",
   "execution_count": 73,
   "metadata": {},
   "outputs": [],
   "source": [
    "import pandas as pd\n",
    "import matplotlib.pyplot as plt"
   ]
  },
  {
   "cell_type": "code",
   "execution_count": 74,
   "metadata": {},
   "outputs": [
    {
     "data": {
      "text/html": [
       "<div>\n",
       "<style scoped>\n",
       "    .dataframe tbody tr th:only-of-type {\n",
       "        vertical-align: middle;\n",
       "    }\n",
       "\n",
       "    .dataframe tbody tr th {\n",
       "        vertical-align: top;\n",
       "    }\n",
       "\n",
       "    .dataframe thead th {\n",
       "        text-align: right;\n",
       "    }\n",
       "</style>\n",
       "<table border=\"1\" class=\"dataframe\">\n",
       "  <thead>\n",
       "    <tr style=\"text-align: right;\">\n",
       "      <th></th>\n",
       "      <th>appid</th>\n",
       "      <th>name</th>\n",
       "      <th>release_date</th>\n",
       "      <th>english</th>\n",
       "      <th>developer</th>\n",
       "      <th>publisher</th>\n",
       "      <th>platforms</th>\n",
       "      <th>required_age</th>\n",
       "      <th>categories</th>\n",
       "      <th>genres</th>\n",
       "      <th>steamspy_tags</th>\n",
       "      <th>achievements</th>\n",
       "      <th>positive_ratings</th>\n",
       "      <th>negative_ratings</th>\n",
       "      <th>average_playtime</th>\n",
       "      <th>median_playtime</th>\n",
       "      <th>owners</th>\n",
       "      <th>price</th>\n",
       "    </tr>\n",
       "  </thead>\n",
       "  <tbody>\n",
       "    <tr>\n",
       "      <th>0</th>\n",
       "      <td>10</td>\n",
       "      <td>Counter-Strike</td>\n",
       "      <td>2000-11-01</td>\n",
       "      <td>1</td>\n",
       "      <td>Valve</td>\n",
       "      <td>Valve</td>\n",
       "      <td>windows;mac;linux</td>\n",
       "      <td>0</td>\n",
       "      <td>Multi-player;Online Multi-Player;Local Multi-P...</td>\n",
       "      <td>Action</td>\n",
       "      <td>Action;FPS;Multiplayer</td>\n",
       "      <td>0</td>\n",
       "      <td>124534</td>\n",
       "      <td>3339</td>\n",
       "      <td>17612</td>\n",
       "      <td>317</td>\n",
       "      <td>10000000-20000000</td>\n",
       "      <td>7.19</td>\n",
       "    </tr>\n",
       "    <tr>\n",
       "      <th>1</th>\n",
       "      <td>20</td>\n",
       "      <td>Team Fortress Classic</td>\n",
       "      <td>1999-04-01</td>\n",
       "      <td>1</td>\n",
       "      <td>Valve</td>\n",
       "      <td>Valve</td>\n",
       "      <td>windows;mac;linux</td>\n",
       "      <td>0</td>\n",
       "      <td>Multi-player;Online Multi-Player;Local Multi-P...</td>\n",
       "      <td>Action</td>\n",
       "      <td>Action;FPS;Multiplayer</td>\n",
       "      <td>0</td>\n",
       "      <td>3318</td>\n",
       "      <td>633</td>\n",
       "      <td>277</td>\n",
       "      <td>62</td>\n",
       "      <td>5000000-10000000</td>\n",
       "      <td>3.99</td>\n",
       "    </tr>\n",
       "    <tr>\n",
       "      <th>2</th>\n",
       "      <td>30</td>\n",
       "      <td>Day of Defeat</td>\n",
       "      <td>2003-05-01</td>\n",
       "      <td>1</td>\n",
       "      <td>Valve</td>\n",
       "      <td>Valve</td>\n",
       "      <td>windows;mac;linux</td>\n",
       "      <td>0</td>\n",
       "      <td>Multi-player;Valve Anti-Cheat enabled</td>\n",
       "      <td>Action</td>\n",
       "      <td>FPS;World War II;Multiplayer</td>\n",
       "      <td>0</td>\n",
       "      <td>3416</td>\n",
       "      <td>398</td>\n",
       "      <td>187</td>\n",
       "      <td>34</td>\n",
       "      <td>5000000-10000000</td>\n",
       "      <td>3.99</td>\n",
       "    </tr>\n",
       "    <tr>\n",
       "      <th>3</th>\n",
       "      <td>40</td>\n",
       "      <td>Deathmatch Classic</td>\n",
       "      <td>2001-06-01</td>\n",
       "      <td>1</td>\n",
       "      <td>Valve</td>\n",
       "      <td>Valve</td>\n",
       "      <td>windows;mac;linux</td>\n",
       "      <td>0</td>\n",
       "      <td>Multi-player;Online Multi-Player;Local Multi-P...</td>\n",
       "      <td>Action</td>\n",
       "      <td>Action;FPS;Multiplayer</td>\n",
       "      <td>0</td>\n",
       "      <td>1273</td>\n",
       "      <td>267</td>\n",
       "      <td>258</td>\n",
       "      <td>184</td>\n",
       "      <td>5000000-10000000</td>\n",
       "      <td>3.99</td>\n",
       "    </tr>\n",
       "    <tr>\n",
       "      <th>4</th>\n",
       "      <td>50</td>\n",
       "      <td>Half-Life: Opposing Force</td>\n",
       "      <td>1999-11-01</td>\n",
       "      <td>1</td>\n",
       "      <td>Gearbox Software</td>\n",
       "      <td>Valve</td>\n",
       "      <td>windows;mac;linux</td>\n",
       "      <td>0</td>\n",
       "      <td>Single-player;Multi-player;Valve Anti-Cheat en...</td>\n",
       "      <td>Action</td>\n",
       "      <td>FPS;Action;Sci-fi</td>\n",
       "      <td>0</td>\n",
       "      <td>5250</td>\n",
       "      <td>288</td>\n",
       "      <td>624</td>\n",
       "      <td>415</td>\n",
       "      <td>5000000-10000000</td>\n",
       "      <td>3.99</td>\n",
       "    </tr>\n",
       "  </tbody>\n",
       "</table>\n",
       "</div>"
      ],
      "text/plain": [
       "   appid                       name release_date  english         developer   \n",
       "0     10             Counter-Strike   2000-11-01        1             Valve  \\\n",
       "1     20      Team Fortress Classic   1999-04-01        1             Valve   \n",
       "2     30              Day of Defeat   2003-05-01        1             Valve   \n",
       "3     40         Deathmatch Classic   2001-06-01        1             Valve   \n",
       "4     50  Half-Life: Opposing Force   1999-11-01        1  Gearbox Software   \n",
       "\n",
       "  publisher          platforms  required_age   \n",
       "0     Valve  windows;mac;linux             0  \\\n",
       "1     Valve  windows;mac;linux             0   \n",
       "2     Valve  windows;mac;linux             0   \n",
       "3     Valve  windows;mac;linux             0   \n",
       "4     Valve  windows;mac;linux             0   \n",
       "\n",
       "                                          categories  genres   \n",
       "0  Multi-player;Online Multi-Player;Local Multi-P...  Action  \\\n",
       "1  Multi-player;Online Multi-Player;Local Multi-P...  Action   \n",
       "2              Multi-player;Valve Anti-Cheat enabled  Action   \n",
       "3  Multi-player;Online Multi-Player;Local Multi-P...  Action   \n",
       "4  Single-player;Multi-player;Valve Anti-Cheat en...  Action   \n",
       "\n",
       "                  steamspy_tags  achievements  positive_ratings   \n",
       "0        Action;FPS;Multiplayer             0            124534  \\\n",
       "1        Action;FPS;Multiplayer             0              3318   \n",
       "2  FPS;World War II;Multiplayer             0              3416   \n",
       "3        Action;FPS;Multiplayer             0              1273   \n",
       "4             FPS;Action;Sci-fi             0              5250   \n",
       "\n",
       "   negative_ratings  average_playtime  median_playtime             owners   \n",
       "0              3339             17612              317  10000000-20000000  \\\n",
       "1               633               277               62   5000000-10000000   \n",
       "2               398               187               34   5000000-10000000   \n",
       "3               267               258              184   5000000-10000000   \n",
       "4               288               624              415   5000000-10000000   \n",
       "\n",
       "   price  \n",
       "0   7.19  \n",
       "1   3.99  \n",
       "2   3.99  \n",
       "3   3.99  \n",
       "4   3.99  "
      ]
     },
     "execution_count": 74,
     "metadata": {},
     "output_type": "execute_result"
    }
   ],
   "source": [
    "games = pd.read_csv(\"steam.csv\")\n",
    "\n",
    "games.head()"
   ]
  },
  {
   "cell_type": "code",
   "execution_count": 75,
   "metadata": {},
   "outputs": [
    {
     "name": "stdout",
     "output_type": "stream",
     "text": [
      "<class 'pandas.core.frame.DataFrame'>\n",
      "RangeIndex: 27075 entries, 0 to 27074\n",
      "Data columns (total 18 columns):\n",
      " #   Column            Non-Null Count  Dtype  \n",
      "---  ------            --------------  -----  \n",
      " 0   appid             27075 non-null  int64  \n",
      " 1   name              27075 non-null  object \n",
      " 2   release_date      27075 non-null  object \n",
      " 3   english           27075 non-null  int64  \n",
      " 4   developer         27074 non-null  object \n",
      " 5   publisher         27061 non-null  object \n",
      " 6   platforms         27075 non-null  object \n",
      " 7   required_age      27075 non-null  int64  \n",
      " 8   categories        27075 non-null  object \n",
      " 9   genres            27075 non-null  object \n",
      " 10  steamspy_tags     27075 non-null  object \n",
      " 11  achievements      27075 non-null  int64  \n",
      " 12  positive_ratings  27075 non-null  int64  \n",
      " 13  negative_ratings  27075 non-null  int64  \n",
      " 14  average_playtime  27075 non-null  int64  \n",
      " 15  median_playtime   27075 non-null  int64  \n",
      " 16  owners            27075 non-null  object \n",
      " 17  price             27075 non-null  float64\n",
      "dtypes: float64(1), int64(8), object(9)\n",
      "memory usage: 3.7+ MB\n"
     ]
    }
   ],
   "source": [
    "games.info()"
   ]
  },
  {
   "cell_type": "code",
   "execution_count": 76,
   "metadata": {},
   "outputs": [
    {
     "data": {
      "text/plain": [
       "english\n",
       "1    26564\n",
       "0      511\n",
       "Name: count, dtype: int64"
      ]
     },
     "execution_count": 76,
     "metadata": {},
     "output_type": "execute_result"
    }
   ],
   "source": [
    "games['english'].value_counts()"
   ]
  },
  {
   "cell_type": "markdown",
   "metadata": {},
   "source": [
    "# Data Filtering"
   ]
  },
  {
   "cell_type": "code",
   "execution_count": 77,
   "metadata": {},
   "outputs": [
    {
     "name": "stdout",
     "output_type": "stream",
     "text": [
      "<class 'pandas.core.frame.DataFrame'>\n",
      "Index: 26564 entries, 0 to 27074\n",
      "Data columns (total 18 columns):\n",
      " #   Column            Non-Null Count  Dtype  \n",
      "---  ------            --------------  -----  \n",
      " 0   appid             26564 non-null  int64  \n",
      " 1   name              26564 non-null  object \n",
      " 2   release_date      26564 non-null  object \n",
      " 3   english           26564 non-null  int64  \n",
      " 4   developer         26563 non-null  object \n",
      " 5   publisher         26550 non-null  object \n",
      " 6   platforms         26564 non-null  object \n",
      " 7   required_age      26564 non-null  int64  \n",
      " 8   categories        26564 non-null  object \n",
      " 9   genres            26564 non-null  object \n",
      " 10  steamspy_tags     26564 non-null  object \n",
      " 11  achievements      26564 non-null  int64  \n",
      " 12  positive_ratings  26564 non-null  int64  \n",
      " 13  negative_ratings  26564 non-null  int64  \n",
      " 14  average_playtime  26564 non-null  int64  \n",
      " 15  median_playtime   26564 non-null  int64  \n",
      " 16  owners            26564 non-null  object \n",
      " 17  price             26564 non-null  float64\n",
      "dtypes: float64(1), int64(8), object(9)\n",
      "memory usage: 3.9+ MB\n"
     ]
    }
   ],
   "source": [
    "# Filtering 1: only enlgish games\n",
    "games = games.loc[games['english'] == 1]\n",
    "games.info()"
   ]
  },
  {
   "cell_type": "code",
   "execution_count": 78,
   "metadata": {},
   "outputs": [
    {
     "data": {
      "text/plain": [
       "platforms\n",
       "windows              17938\n",
       "windows;mac;linux     4607\n",
       "windows;mac           3406\n",
       "windows;linux          608\n",
       "mac                      3\n",
       "mac;linux                1\n",
       "linux                    1\n",
       "Name: count, dtype: int64"
      ]
     },
     "execution_count": 78,
     "metadata": {},
     "output_type": "execute_result"
    }
   ],
   "source": [
    "games['platforms'].value_counts()"
   ]
  },
  {
   "cell_type": "code",
   "execution_count": 79,
   "metadata": {},
   "outputs": [
    {
     "data": {
      "text/plain": [
       "platforms\n",
       "windows              17938\n",
       "windows;mac;linux     4607\n",
       "windows;mac           3406\n",
       "windows;linux          608\n",
       "Name: count, dtype: int64"
      ]
     },
     "execution_count": 79,
     "metadata": {},
     "output_type": "execute_result"
    }
   ],
   "source": [
    "# Filtering 2: platforms containing windows\n",
    "games = games[games['platforms'].str.contains('windows')]\n",
    "games['platforms'].value_counts()"
   ]
  },
  {
   "cell_type": "code",
   "execution_count": 80,
   "metadata": {},
   "outputs": [
    {
     "data": {
      "image/png": "[encoded data removed]",
      "text/plain": [
       "<Figure size 640x480 with 1 Axes>"
      ]
     },
     "metadata": {},
     "output_type": "display_data"
    }
   ],
   "source": [
    "plt.hist(games['price'])\n",
    "plt.title('Distribution of Game Prices')\n",
    "plt.xlabel('Game Price')\n",
    "plt.ylabel('Number of Games')\n",
    "plt.show()"
   ]
  },
  {
   "cell_type": "code",
   "execution_count": 81,
   "metadata": {},
   "outputs": [
    {
     "data": {
      "text/plain": [
       "price\n",
       "3.99     0.119922\n",
       "0.79     0.105840\n",
       "0.00     0.092812\n",
       "6.99     0.076998\n",
       "7.19     0.048533\n",
       "           ...   \n",
       "0.85     0.000038\n",
       "49.90    0.000038\n",
       "3.02     0.000038\n",
       "3.14     0.000038\n",
       "6.10     0.000038\n",
       "Name: proportion, Length: 278, dtype: float64"
      ]
     },
     "execution_count": 81,
     "metadata": {},
     "output_type": "execute_result"
    }
   ],
   "source": [
    "# Filtering 3: remove free games\n",
    "games['price'].value_counts(normalize=True).sort_values(ascending=False)"
   ]
  },
  {
   "cell_type": "code",
   "execution_count": 82,
   "metadata": {},
   "outputs": [
    {
     "name": "stdout",
     "output_type": "stream",
     "text": [
      "<class 'pandas.core.frame.DataFrame'>\n",
      "Index: 26548 entries, 0 to 27074\n",
      "Data columns (total 18 columns):\n",
      " #   Column            Non-Null Count  Dtype  \n",
      "---  ------            --------------  -----  \n",
      " 0   appid             26548 non-null  int64  \n",
      " 1   name              26548 non-null  object \n",
      " 2   release_date      26548 non-null  object \n",
      " 3   english           26548 non-null  int64  \n",
      " 4   developer         26547 non-null  object \n",
      " 5   publisher         26534 non-null  object \n",
      " 6   platforms         26548 non-null  object \n",
      " 7   required_age      26548 non-null  int64  \n",
      " 8   categories        26548 non-null  object \n",
      " 9   genres            26548 non-null  object \n",
      " 10  steamspy_tags     26548 non-null  object \n",
      " 11  achievements      26548 non-null  int64  \n",
      " 12  positive_ratings  26548 non-null  int64  \n",
      " 13  negative_ratings  26548 non-null  int64  \n",
      " 14  average_playtime  26548 non-null  int64  \n",
      " 15  median_playtime   26548 non-null  int64  \n",
      " 16  owners            26548 non-null  object \n",
      " 17  price             26548 non-null  float64\n",
      "dtypes: float64(1), int64(8), object(9)\n",
      "memory usage: 3.8+ MB\n"
     ]
    }
   ],
   "source": [
    "games = games.loc[games['price'] <= 100]\n",
    "games.info()"
   ]
  },
  {
   "cell_type": "code",
   "execution_count": 83,
   "metadata": {},
   "outputs": [
    {
     "data": {
      "text/plain": [
       "genres\n",
       "Action;Indie                                                                 1840\n",
       "Casual;Indie                                                                 1467\n",
       "Action;Adventure;Indie                                                       1223\n",
       "Adventure;Indie                                                              1147\n",
       "Action;Casual;Indie                                                          1000\n",
       "                                                                             ... \n",
       "Action;Strategy;Indie;Sports                                                    1\n",
       "Violent;Action;Adventure;Indie;Early Access                                     1\n",
       "Action;Adventure;Casual;Massively Multiplayer;RPG;Strategy;Early Access         1\n",
       "Nudity;Violent;Gore;Indie;Early Access                                          1\n",
       "Action;Adventure;Casual;Free to Play;Indie;RPG;Simulation;Sports;Strategy       1\n",
       "Name: count, Length: 1525, dtype: int64"
      ]
     },
     "execution_count": 83,
     "metadata": {},
     "output_type": "execute_result"
    }
   ],
   "source": [
    "games['genres'].value_counts()\n",
    "# Feature engineering 1: separate out columns"
   ]
  },
  {
   "cell_type": "code",
   "execution_count": 84,
   "metadata": {},
   "outputs": [
    {
     "data": {
      "text/plain": [
       "count    2.654800e+04\n",
       "mean     1.016963e+03\n",
       "std      1.917541e+04\n",
       "min      0.000000e+00\n",
       "25%      6.000000e+00\n",
       "50%      2.500000e+01\n",
       "75%      1.272500e+02\n",
       "max      2.644404e+06\n",
       "Name: positive_ratings, dtype: float64"
      ]
     },
     "execution_count": 84,
     "metadata": {},
     "output_type": "execute_result"
    }
   ],
   "source": [
    "games['positive_ratings'].describe()"
   ]
  },
  {
   "cell_type": "code",
   "execution_count": 85,
   "metadata": {},
   "outputs": [
    {
     "data": {
      "text/plain": [
       "owners\n",
       "0-20000                18151\n",
       "20000-50000             3016\n",
       "50000-100000            1675\n",
       "100000-200000           1373\n",
       "200000-500000           1268\n",
       "500000-1000000           513\n",
       "1000000-2000000          287\n",
       "2000000-5000000          192\n",
       "5000000-10000000          46\n",
       "10000000-20000000         21\n",
       "20000000-50000000          3\n",
       "50000000-100000000         2\n",
       "100000000-200000000        1\n",
       "Name: count, dtype: int64"
      ]
     },
     "execution_count": 85,
     "metadata": {},
     "output_type": "execute_result"
    }
   ],
   "source": [
    "games['owners'].value_counts()"
   ]
  },
  {
   "cell_type": "markdown",
   "metadata": {},
   "source": [
    "# Feature Engineering"
   ]
  },
  {
   "cell_type": "code",
   "execution_count": 86,
   "metadata": {},
   "outputs": [],
   "source": [
    "# Create positive_ratio column (proportion of number of positive ratings to total number of ratings)\n",
    "def get_rating_ratio(df):\n",
    "    df['rating_num'] = df['positive_ratings'] + df['negative_ratings']\n",
    "    df['positive_ratio'] = df['positive_ratings'] / df['rating_num']"
   ]
  },
  {
   "cell_type": "code",
   "execution_count": 87,
   "metadata": {},
   "outputs": [],
   "source": [
    "def get_low_high_sales(df):\n",
    "    df[['owners_low', 'owners_high']] = df['owners'].str.split(\"-\", expand=True).astype(int)\n",
    "    df['sales_low'] = df['owners_low'] * df['price']\n",
    "    df['sales_high'] = df['owners_high'] * df['price']\n"
   ]
  },
  {
   "cell_type": "code",
   "execution_count": 90,
   "metadata": {},
   "outputs": [],
   "source": [
    "def get_average_sales(df):\n",
    "    df['sales_average'] = (df['sales_high'] + df['sales_low'])/2"
   ]
  },
  {
   "cell_type": "code",
   "execution_count": 91,
   "metadata": {},
   "outputs": [
    {
     "data": {
      "text/html": [
       "<div>\n",
       "<style scoped>\n",
       "    .dataframe tbody tr th:only-of-type {\n",
       "        vertical-align: middle;\n",
       "    }\n",
       "\n",
       "    .dataframe tbody tr th {\n",
       "        vertical-align: top;\n",
       "    }\n",
       "\n",
       "    .dataframe thead th {\n",
       "        text-align: right;\n",
       "    }\n",
       "</style>\n",
       "<table border=\"1\" class=\"dataframe\">\n",
       "  <thead>\n",
       "    <tr style=\"text-align: right;\">\n",
       "      <th></th>\n",
       "      <th>appid</th>\n",
       "      <th>name</th>\n",
       "      <th>release_date</th>\n",
       "      <th>english</th>\n",
       "      <th>developer</th>\n",
       "      <th>publisher</th>\n",
       "      <th>platforms</th>\n",
       "      <th>required_age</th>\n",
       "      <th>categories</th>\n",
       "      <th>genres</th>\n",
       "      <th>...</th>\n",
       "      <th>median_playtime</th>\n",
       "      <th>owners</th>\n",
       "      <th>price</th>\n",
       "      <th>rating_num</th>\n",
       "      <th>positive_ratio</th>\n",
       "      <th>owners_low</th>\n",
       "      <th>owners_high</th>\n",
       "      <th>sales_low</th>\n",
       "      <th>sales_high</th>\n",
       "      <th>sales_average</th>\n",
       "    </tr>\n",
       "  </thead>\n",
       "  <tbody>\n",
       "    <tr>\n",
       "      <th>0</th>\n",
       "      <td>10</td>\n",
       "      <td>Counter-Strike</td>\n",
       "      <td>2000-11-01</td>\n",
       "      <td>1</td>\n",
       "      <td>Valve</td>\n",
       "      <td>Valve</td>\n",
       "      <td>windows;mac;linux</td>\n",
       "      <td>0</td>\n",
       "      <td>Multi-player;Online Multi-Player;Local Multi-P...</td>\n",
       "      <td>Action</td>\n",
       "      <td>...</td>\n",
       "      <td>317</td>\n",
       "      <td>10000000-20000000</td>\n",
       "      <td>7.19</td>\n",
       "      <td>127873</td>\n",
       "      <td>0.973888</td>\n",
       "      <td>10000000</td>\n",
       "      <td>20000000</td>\n",
       "      <td>71900000.0</td>\n",
       "      <td>143800000.0</td>\n",
       "      <td>107850000.0</td>\n",
       "    </tr>\n",
       "    <tr>\n",
       "      <th>1</th>\n",
       "      <td>20</td>\n",
       "      <td>Team Fortress Classic</td>\n",
       "      <td>1999-04-01</td>\n",
       "      <td>1</td>\n",
       "      <td>Valve</td>\n",
       "      <td>Valve</td>\n",
       "      <td>windows;mac;linux</td>\n",
       "      <td>0</td>\n",
       "      <td>Multi-player;Online Multi-Player;Local Multi-P...</td>\n",
       "      <td>Action</td>\n",
       "      <td>...</td>\n",
       "      <td>62</td>\n",
       "      <td>5000000-10000000</td>\n",
       "      <td>3.99</td>\n",
       "      <td>3951</td>\n",
       "      <td>0.839787</td>\n",
       "      <td>5000000</td>\n",
       "      <td>10000000</td>\n",
       "      <td>19950000.0</td>\n",
       "      <td>39900000.0</td>\n",
       "      <td>29925000.0</td>\n",
       "    </tr>\n",
       "    <tr>\n",
       "      <th>2</th>\n",
       "      <td>30</td>\n",
       "      <td>Day of Defeat</td>\n",
       "      <td>2003-05-01</td>\n",
       "      <td>1</td>\n",
       "      <td>Valve</td>\n",
       "      <td>Valve</td>\n",
       "      <td>windows;mac;linux</td>\n",
       "      <td>0</td>\n",
       "      <td>Multi-player;Valve Anti-Cheat enabled</td>\n",
       "      <td>Action</td>\n",
       "      <td>...</td>\n",
       "      <td>34</td>\n",
       "      <td>5000000-10000000</td>\n",
       "      <td>3.99</td>\n",
       "      <td>3814</td>\n",
       "      <td>0.895648</td>\n",
       "      <td>5000000</td>\n",
       "      <td>10000000</td>\n",
       "      <td>19950000.0</td>\n",
       "      <td>39900000.0</td>\n",
       "      <td>29925000.0</td>\n",
       "    </tr>\n",
       "    <tr>\n",
       "      <th>3</th>\n",
       "      <td>40</td>\n",
       "      <td>Deathmatch Classic</td>\n",
       "      <td>2001-06-01</td>\n",
       "      <td>1</td>\n",
       "      <td>Valve</td>\n",
       "      <td>Valve</td>\n",
       "      <td>windows;mac;linux</td>\n",
       "      <td>0</td>\n",
       "      <td>Multi-player;Online Multi-Player;Local Multi-P...</td>\n",
       "      <td>Action</td>\n",
       "      <td>...</td>\n",
       "      <td>184</td>\n",
       "      <td>5000000-10000000</td>\n",
       "      <td>3.99</td>\n",
       "      <td>1540</td>\n",
       "      <td>0.826623</td>\n",
       "      <td>5000000</td>\n",
       "      <td>10000000</td>\n",
       "      <td>19950000.0</td>\n",
       "      <td>39900000.0</td>\n",
       "      <td>29925000.0</td>\n",
       "    </tr>\n",
       "    <tr>\n",
       "      <th>4</th>\n",
       "      <td>50</td>\n",
       "      <td>Half-Life: Opposing Force</td>\n",
       "      <td>1999-11-01</td>\n",
       "      <td>1</td>\n",
       "      <td>Gearbox Software</td>\n",
       "      <td>Valve</td>\n",
       "      <td>windows;mac;linux</td>\n",
       "      <td>0</td>\n",
       "      <td>Single-player;Multi-player;Valve Anti-Cheat en...</td>\n",
       "      <td>Action</td>\n",
       "      <td>...</td>\n",
       "      <td>415</td>\n",
       "      <td>5000000-10000000</td>\n",
       "      <td>3.99</td>\n",
       "      <td>5538</td>\n",
       "      <td>0.947996</td>\n",
       "      <td>5000000</td>\n",
       "      <td>10000000</td>\n",
       "      <td>19950000.0</td>\n",
       "      <td>39900000.0</td>\n",
       "      <td>29925000.0</td>\n",
       "    </tr>\n",
       "  </tbody>\n",
       "</table>\n",
       "<p>5 rows × 25 columns</p>\n",
       "</div>"
      ],
      "text/plain": [
       "   appid                       name release_date  english         developer   \n",
       "0     10             Counter-Strike   2000-11-01        1             Valve  \\\n",
       "1     20      Team Fortress Classic   1999-04-01        1             Valve   \n",
       "2     30              Day of Defeat   2003-05-01        1             Valve   \n",
       "3     40         Deathmatch Classic   2001-06-01        1             Valve   \n",
       "4     50  Half-Life: Opposing Force   1999-11-01        1  Gearbox Software   \n",
       "\n",
       "  publisher          platforms  required_age   \n",
       "0     Valve  windows;mac;linux             0  \\\n",
       "1     Valve  windows;mac;linux             0   \n",
       "2     Valve  windows;mac;linux             0   \n",
       "3     Valve  windows;mac;linux             0   \n",
       "4     Valve  windows;mac;linux             0   \n",
       "\n",
       "                                          categories  genres  ...   \n",
       "0  Multi-player;Online Multi-Player;Local Multi-P...  Action  ...  \\\n",
       "1  Multi-player;Online Multi-Player;Local Multi-P...  Action  ...   \n",
       "2              Multi-player;Valve Anti-Cheat enabled  Action  ...   \n",
       "3  Multi-player;Online Multi-Player;Local Multi-P...  Action  ...   \n",
       "4  Single-player;Multi-player;Valve Anti-Cheat en...  Action  ...   \n",
       "\n",
       "  median_playtime             owners  price  rating_num  positive_ratio   \n",
       "0             317  10000000-20000000   7.19      127873        0.973888  \\\n",
       "1              62   5000000-10000000   3.99        3951        0.839787   \n",
       "2              34   5000000-10000000   3.99        3814        0.895648   \n",
       "3             184   5000000-10000000   3.99        1540        0.826623   \n",
       "4             415   5000000-10000000   3.99        5538        0.947996   \n",
       "\n",
       "   owners_low owners_high   sales_low   sales_high  sales_average  \n",
       "0    10000000    20000000  71900000.0  143800000.0    107850000.0  \n",
       "1     5000000    10000000  19950000.0   39900000.0     29925000.0  \n",
       "2     5000000    10000000  19950000.0   39900000.0     29925000.0  \n",
       "3     5000000    10000000  19950000.0   39900000.0     29925000.0  \n",
       "4     5000000    10000000  19950000.0   39900000.0     29925000.0  \n",
       "\n",
       "[5 rows x 25 columns]"
      ]
     },
     "execution_count": 91,
     "metadata": {},
     "output_type": "execute_result"
    }
   ],
   "source": [
    "get_rating_ratio(games)\n",
    "get_low_high_sales(games)\n",
    "get_average_sales(games)\n",
    "games.head()"
   ]
  },
  {
   "cell_type": "code",
   "execution_count": 93,
   "metadata": {},
   "outputs": [
    {
     "data": {
      "text/plain": [
       "(26423, 25)"
      ]
     },
     "execution_count": 93,
     "metadata": {},
     "output_type": "execute_result"
    }
   ],
   "source": [
    "import numpy as np\n",
    "from scipy import stats\n",
    "\n",
    "games = games[(np.abs(stats.zscore(games['sales_average'])) < 3)]\n",
    "games.shape\n"
   ]
  },
  {
   "cell_type": "code",
   "execution_count": 102,
   "metadata": {},
   "outputs": [
    {
     "data": {
      "text/plain": [
       "count    2.642300e+04\n",
       "mean     6.470332e+05\n",
       "std      3.022002e+06\n",
       "min      0.000000e+00\n",
       "25%      1.990000e+04\n",
       "50%      5.590000e+04\n",
       "75%      1.499000e+05\n",
       "max      4.498500e+07\n",
       "Name: sales_average, dtype: float64"
      ]
     },
     "execution_count": 102,
     "metadata": {},
     "output_type": "execute_result"
    }
   ],
   "source": [
    "games['sales_average'].describe()"
   ]
  },
  {
   "cell_type": "code",
   "execution_count": 100,
   "metadata": {},
   "outputs": [
    {
     "data": {
      "text/plain": [
       "{'whiskers': [<matplotlib.lines.Line2D at 0x2983b3eb0>,\n",
       "  <matplotlib.lines.Line2D at 0x298324190>],\n",
       " 'caps': [<matplotlib.lines.Line2D at 0x298324430>,\n",
       "  <matplotlib.lines.Line2D at 0x2983246d0>],\n",
       " 'boxes': [<matplotlib.lines.Line2D at 0x2983ce8c0>],\n",
       " 'medians': [<matplotlib.lines.Line2D at 0x298324970>],\n",
       " 'fliers': [<matplotlib.lines.Line2D at 0x298324c10>],\n",
       " 'means': []}"
      ]
     },
     "execution_count": 100,
     "metadata": {},
     "output_type": "execute_result"
    },
    {
     "data": {
      "image/png": "[encoded data removed]",
      "text/plain": [
       "<Figure size 640x480 with 1 Axes>"
      ]
     },
     "metadata": {},
     "output_type": "display_data"
    }
   ],
   "source": [
    "plt.boxplot(games['sales_average'])"
   ]
  },
  {
   "cell_type": "code",
   "execution_count": 95,
   "metadata": {},
   "outputs": [
    {
     "data": {
      "text/plain": [
       "(array([2.5564e+04, 4.0500e+02, 1.4700e+02, 1.0300e+02, 5.9000e+01,\n",
       "        4.4000e+01, 3.4000e+01, 2.5000e+01, 2.1000e+01, 2.1000e+01]),\n",
       " array([       0.,  4498500.,  8997000., 13495500., 17994000., 22492500.,\n",
       "        26991000., 31489500., 35988000., 40486500., 44985000.]),\n",
       " <BarContainer object of 10 artists>)"
      ]
     },
     "execution_count": 95,
     "metadata": {},
     "output_type": "execute_result"
    },
    {
     "data": {
      "image/png": "[encoded data removed]",
      "text/plain": [
       "<Figure size 640x480 with 1 Axes>"
      ]
     },
     "metadata": {},
     "output_type": "display_data"
    }
   ],
   "source": [
    "plt.hist(games['sales_average'])"
   ]
  },
  {
   "cell_type": "markdown",
   "metadata": {},
   "source": [
    "The `sales_average` column is already a calcualted variable from low and high points of owners multiplied by unit price. Since it is a calculated variable, it is binned to different levels of sales. This can also help with business interpretability. Note that it is highly skewed, so `SMOTE` would be necessary later on, when running regression models."
   ]
  },
  {
   "cell_type": "code",
   "execution_count": 108,
   "metadata": {},
   "outputs": [
    {
     "name": "stderr",
     "output_type": "stream",
     "text": [
      "/var/folders/g7/g9fxssr51yd508bw8xr5xtcw0000gn/T/ipykernel_1193/2972038906.py:11: SettingWithCopyWarning: \n",
      "A value is trying to be set on a copy of a slice from a DataFrame.\n",
      "Try using .loc[row_indexer,col_indexer] = value instead\n",
      "\n",
      "See the caveats in the documentation: https://pandas.pydata.org/pandas-docs/stable/user_guide/indexing.html#returning-a-view-versus-a-copy\n",
      "  games['sales_category'] = pd.cut(games['sales_average'], bins=bins, labels=labels)\n"
     ]
    },
    {
     "data": {
      "text/plain": [
       "sales_category\n",
       "medium    13344\n",
       "high       6318\n",
       "low        4296\n",
       "Name: count, dtype: int64"
      ]
     },
     "execution_count": 108,
     "metadata": {},
     "output_type": "execute_result"
    }
   ],
   "source": [
    "# Feature Engineering 3-2: Bin Sales\n",
    "# 3-2-1 3 bins (25 and 75th percentiles)\n",
    "\n",
    "# define cutoff values \n",
    "bins = [games['sales_average'].min(), games['sales_average'].describe()[4], games['sales_average'].describe()[6], games['sales_average'].max()]\n",
    "\n",
    "# define labels\n",
    "labels = ['low', 'medium', 'high']\n",
    "\n",
    "# categorize sales_average\n",
    "games['sales_category'] = pd.cut(games['sales_average'], bins=bins, labels=labels)\n",
    "\n",
    "games['sales_category'].value_counts()"
   ]
  }
 ],
 "metadata": {
  "kernelspec": {
   "display_name": "Python 3.10.2 64-bit",
   "language": "python",
   "name": "python3"
  },
  "language_info": {
   "codemirror_mode": {
    "name": "ipython",
    "version": 3
   },
   "file_extension": ".py",
   "mimetype": "text/x-python",
   "name": "python",
   "nbconvert_exporter": "python",
   "pygments_lexer": "ipython3",
   "version": "3.10.2"
  },
  "orig_nbformat": 4,
  "vscode": {
   "interpreter": {
    "hash": "aee8b7b246df8f9039afb4144a1f6fd8d2ca17a180786b69acc140d282b71a49"
   }
  }
 },
 "nbformat": 4,
 "nbformat_minor": 2
}
